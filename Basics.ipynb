{
 "metadata": {
  "language_info": {
   "codemirror_mode": {
    "name": "ipython",
    "version": 3
   },
   "file_extension": ".py",
   "mimetype": "text/x-python",
   "name": "python",
   "nbconvert_exporter": "python",
   "pygments_lexer": "ipython3",
   "version": "3.8.10"
  },
  "orig_nbformat": 4,
  "kernelspec": {
   "name": "python3",
   "display_name": "Python 3.8.10 64-bit ('venv')"
  },
  "interpreter": {
   "hash": "48a5dd597f005c8c0d6c817f16fdfa200a7e97951d0afb0adf2e59f32a1d8813"
  }
 },
 "nbformat": 4,
 "nbformat_minor": 2,
 "cells": [
  {
   "cell_type": "code",
   "execution_count": 1,
   "metadata": {},
   "outputs": [
    {
     "output_type": "stream",
     "name": "stdout",
     "text": [
      "[   ['spam', 'eggs', 'lumberjack', 'knights', 'ni'],\n    'spam',\n    'eggs',\n    'lumberjack',\n    'knights',\n    'ni']\n[['spam', 'eggs', 'lumberjack',\n  'knights', 'ni'],\n 'spam', 'eggs', 'lumberjack', 'knights',\n 'ni']\n('spam', ('eggs', ('lumberjack', ('knights', ('ni', ('dead', (...)))))))\n"
     ]
    },
    {
     "output_type": "execute_result",
     "data": {
      "text/plain": [
       "('spam', ('eggs', ('lumberjack', ('knights', ('ni', ('dead', Ellipsis))))))"
      ]
     },
     "metadata": {},
     "execution_count": 1
    }
   ],
   "source": [
    "import pprint\n",
    "\n",
    "stuff = ['spam', 'eggs', 'lumberjack', 'knights', 'ni']\n",
    "\n",
    "stuff.insert(0, stuff[:])\n",
    "\n",
    "pp = pprint.PrettyPrinter(indent=4)\n",
    "\n",
    "pp.pprint(stuff)\n",
    "[   ['spam', 'eggs', 'lumberjack', 'knights', 'ni'],\n",
    "    'spam',\n",
    "    'eggs',\n",
    "    'lumberjack',\n",
    "    'knights',\n",
    "    'ni']\n",
    "\n",
    "pp = pprint.PrettyPrinter(width=41, compact=True)\n",
    "\n",
    "pp.pprint(stuff)\n",
    "[['spam', 'eggs', 'lumberjack',\n",
    "  'knights', 'ni'],\n",
    " 'spam', 'eggs', 'lumberjack', 'knights',\n",
    " 'ni']\n",
    "\n",
    "tup = ('spam', ('eggs', ('lumberjack', ('knights', ('ni', ('dead',\n",
    "\n",
    "('parrot', ('fresh fruit',))))))))\n",
    "\n",
    "pp = pprint.PrettyPrinter(depth=6)\n",
    "\n",
    "pp.pprint(tup)\n",
    "('spam', ('eggs', ('lumberjack', ('knights', ('ni', ('dead', (...)))))))"
   ]
  },
  {
   "cell_type": "code",
   "execution_count": 5,
   "metadata": {},
   "outputs": [
    {
     "output_type": "execute_result",
     "data": {
      "text/plain": [
       "datetime.timedelta(days=64, seconds=29156, microseconds=10)"
      ]
     },
     "metadata": {},
     "execution_count": 5
    }
   ],
   "source": [
    "from datetime import timedelta\n",
    "delta = timedelta(\n",
    "    days=50,\n",
    "    seconds=27,\n",
    "    microseconds=10,\n",
    "    milliseconds=29000,\n",
    "    minutes=5,\n",
    "    hours=8,\n",
    "    weeks=2\n",
    ")\n",
    " # Only days, seconds, and microseconds remain\n",
    "delta\n",
    "#datetime.timedelta(days=64, seconds=29156, microseconds=10)"
   ]
  },
  {
   "cell_type": "code",
   "execution_count": 10,
   "metadata": {},
   "outputs": [
    {
     "output_type": "stream",
     "name": "stdout",
     "text": [
      "-3\n1\n"
     ]
    }
   ],
   "source": [
    "a = -5\n",
    "b = 2\n",
    "q = a // b # хочется получить 2, как и в прошлый раз, но q = -3\n",
    "print(q)\n",
    "r = a % b # а остаток остался тот же, r = 1\n",
    "print(r)"
   ]
  },
  {
   "cell_type": "code",
   "execution_count": 11,
   "metadata": {},
   "outputs": [
    {
     "output_type": "stream",
     "name": "stdout",
     "text": [
      "-3\n-1\n"
     ]
    }
   ],
   "source": [
    "a = 5\n",
    "b = -2\n",
    "q = a // b # хочется получить 2, как и в прошлый раз, но q = -3\n",
    "print(q)\n",
    "r = a % b # а остаток остался тот же, r = 1\n",
    "print(r)\n"
   ]
  },
  {
   "cell_type": "code",
   "execution_count": 12,
   "metadata": {},
   "outputs": [
    {
     "output_type": "stream",
     "name": "stdout",
     "text": [
      "2\n"
     ]
    }
   ],
   "source": [
    "print ((31 % 2) + (-31 % 2))"
   ]
  },
  {
   "cell_type": "code",
   "execution_count": 13,
   "metadata": {},
   "outputs": [
    {
     "output_type": "stream",
     "name": "stdout",
     "text": [
      "-15\n"
     ]
    }
   ],
   "source": [
    "print (13 % -3 * 3 - 3**2)"
   ]
  },
  {
   "cell_type": "code",
   "execution_count": 14,
   "metadata": {},
   "outputs": [
    {
     "output_type": "stream",
     "name": "stdout",
     "text": [
      "Hello, John! Today is Friday. Have a nice day!\n"
     ]
    }
   ],
   "source": [
    "def new_format(user_name, dayofweek):\n",
    "    print(f'Hello, {user_name}! Today is {dayofweek}. Have a nice day!')\n",
    "\n",
    "new_format('John', 'Friday')"
   ]
  },
  {
   "cell_type": "code",
   "execution_count": null,
   "metadata": {},
   "outputs": [],
   "source": []
  }
 ]
}