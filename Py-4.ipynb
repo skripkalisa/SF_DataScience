{
    "cells": [
        {
            "cell_type": "markdown",
            "source": [
                "# 1. Цикл for"
            ],
            "metadata": {}
        },
        {
            "cell_type": "code",
            "execution_count": null,
            "source": [
                "my_list = [1]\n",
                "for i in range(10):\n",
                "    my_list.append(my_list[i] * 2)\n",
                "my_list.sort(reverse = True)\n",
                "my_list\n",
                "my_list[6]"
            ],
            "outputs": [],
            "metadata": {}
        },
        {
            "cell_type": "code",
            "execution_count": null,
            "source": [
                "word_list = ['My', 'name', 'is', 'Eminem']\n",
                "sent = ''\n",
                "for word in word_list:\n",
                "  sent += word\n",
                "\n",
                "sent"
            ],
            "outputs": [],
            "metadata": {}
        },
        {
            "cell_type": "code",
            "execution_count": null,
            "source": [
                "num_list = [1, 10, 3, -5]\n",
                "num_list.sort()\n",
                "for num in num_list:\n",
                "  print(num)"
            ],
            "outputs": [],
            "metadata": {}
        },
        {
            "cell_type": "code",
            "execution_count": null,
            "source": [
                "my_list = list(range(0, 100, 3))\n",
                "count = 0\n",
                "for el in my_list:\n",
                "  count += 1\n",
                "count"
            ],
            "outputs": [],
            "metadata": {}
        },
        {
            "cell_type": "code",
            "execution_count": null,
            "source": [
                "my_list = [True, 1, -10, 'hello', False,\n",
                "           'string_1', 123, 2.5, [1, 2], 'another']\n",
                "count = 0\n",
                "for el in my_list:\n",
                "  if type(el) is str:\n",
                "    count += 1\n",
                "\n",
                "count"
            ],
            "outputs": [],
            "metadata": {}
        },
        {
            "cell_type": "markdown",
            "source": [
                "# 2. Цикл while"
            ],
            "metadata": {}
        },
        {
            "cell_type": "markdown",
            "source": [
                "### Задание 2.1 (на самопроверку)\n",
                "\n",
                "Напишите цикл **while**, который находит максимальное натуральное число, квадрат которого меньше 1000.\n"
            ],
            "metadata": {}
        },
        {
            "cell_type": "code",
            "execution_count": null,
            "source": [
                "n = 1\n",
                "temp = 0\n",
                "while temp < 1000:\n",
                "  temp = n**2\n",
                "  n += 1\n",
                "  print(n, temp)\n",
                "\n",
                "n #33"
            ],
            "outputs": [],
            "metadata": {}
        },
        {
            "cell_type": "code",
            "execution_count": null,
            "source": [
                "num = 0\n",
                "sqr_num = 1\n",
                "while sqr_num < 1000:\n",
                "  num += 1\n",
                "  if num ** 2 > 1000:\n",
                "    break\n",
                "  sqr_num = num ** 2\n",
                "print(sqr_num)"
            ],
            "outputs": [],
            "metadata": {}
        },
        {
            "cell_type": "code",
            "execution_count": null,
            "source": [
                "# хорошо\n",
                "n = 1\n",
                "while True:  # в данной программе условие всегда True, цикл будет бесконечным\n",
                "  print(\"Hello World\")\n",
                "  n += 1\n",
                "  if n > 10:  # условие, при достижении которого цикл while будет принудительно завершён\n",
                "    break"
            ],
            "outputs": [],
            "metadata": {}
        },
        {
            "cell_type": "markdown",
            "source": [
                "Особенность использования такого цикла while с условием внутри заключается в том, что тело цикла точно выполнится один раз, в отличие от цикла с предусловием. Такой цикл ещё называют циклом с постусловием."
            ],
            "metadata": {}
        },
        {
            "cell_type": "code",
            "execution_count": null,
            "source": [
                "i = 0\n",
                "while i < 5:\n",
                "    i += 1\n",
                "\n",
                "i"
            ],
            "outputs": [],
            "metadata": {}
        },
        {
            "cell_type": "code",
            "execution_count": null,
            "source": [
                "n = 10\n",
                "i = 1\n",
                "while i ** 2 < n:\n",
                "  i += 1\n",
                "print(i)"
            ],
            "outputs": [],
            "metadata": {}
        },
        {
            "cell_type": "code",
            "execution_count": null,
            "source": [
                "count = 0\n",
                "num = 1\n",
                "while num < 10000:\n",
                "  num *= 2\n",
                "  count += 1\n",
                "print(count)\n",
                "print(num)"
            ],
            "outputs": [],
            "metadata": {}
        },
        {
            "cell_type": "markdown",
            "source": [
                "## Задание 2.10 (на самопроверку)\n",
                "\n",
                "Сгенерируйте случайное число в диапазоне от 0 до 10 000 с помощью модуля random следующим образом:\n",
                "\n",
                "    import random\n",
                "    num = random.randint(0, 10000)\n",
                "\n",
                "С помощью цикла **while** и математических операций определите наименьшую цифру в этом числе.\n"
            ],
            "metadata": {}
        },
        {
            "cell_type": "code",
            "execution_count": null,
            "source": [
                "import random\n",
                "num = random.randint(0, 10000)\n",
                "digit = 9\n",
                "min_num = 9\n",
                "print(num)\n",
                "while digit >= 9:\n",
                "\n",
                "  digit = num //10\n",
                "  print(digit)\n",
                "  if digit < min_num:\n",
                "    min_num = digit\n",
                "\n",
                "min_num\n"
            ],
            "outputs": [],
            "metadata": {}
        },
        {
            "cell_type": "markdown",
            "source": [
                "## Задание 2.11\n",
                "1 point possible (graded)\n",
                "Олег положил тысячу рублей в банк под 8% годовых. Через сколько лет у него на счету будет не менее трёх тысяч рублей? Выведите на экран это число и запишите его в ответ."
            ],
            "metadata": {}
        },
        {
            "cell_type": "code",
            "execution_count": null,
            "source": [
                "money = 1000\n",
                "year_count = 0\n",
                "while money < 3000:\n",
                "  money = money * 1.08\n",
                "  year_count += 1\n",
                "print(year_count)"
            ],
            "outputs": [],
            "metadata": {}
        },
        {
            "cell_type": "markdown",
            "source": [
                "## Задание 2.12\n",
                "\n",
                "От коллеги вам достался код, который почему-то зацикливается и не даёт никакого результата. Ваша задача — исправить этот код. Запишите в ответ строку, которую вы добавили. "
            ],
            "metadata": {}
        },
        {
            "cell_type": "code",
            "execution_count": 3,
            "source": [
                "employee = 5\n",
                "i = 1\n",
                "while i < employee:\n",
                "    if i > 1:\n",
                "        print('There are', i, 'people in the department') # В отделе i человек\n",
                "    if i == 1:\n",
                "        print('There are', i, 'people in the department') # В отделе i человек\n",
                "    i += 1"
            ],
            "outputs": [
                {
                    "output_type": "stream",
                    "name": "stdout",
                    "text": [
                        "There are 1 people in the department\n",
                        "There are 2 people in the department\n",
                        "There are 3 people in the department\n",
                        "There are 4 people in the department\n"
                    ]
                }
            ],
            "metadata": {}
        },
        {
            "cell_type": "markdown",
            "source": [
                "# 3. Работа с вложенными циклами"
            ],
            "metadata": {}
        },
        {
            "cell_type": "markdown",
            "source": [
                "## Задание 3.1 (на самопроверку)\n",
                "\n",
                "Напишите цикл, который ищет наибольший элемент в матрице.\n",
                "\n",
                "Пример матрицы:"
            ],
            "metadata": {}
        },
        {
            "cell_type": "code",
            "execution_count": 6,
            "source": [
                "test_matrix = [[1, 2, 3], \n",
                "              [7, -1, 2],\n",
                "              [123, 2, -1]]\n",
                "\n",
                "max = 0\n",
                "\n",
                "for i in test_matrix:\n",
                "  for j in i:\n",
                "    if max < j:\n",
                "      max = j\n",
                "\n",
                "max"
            ],
            "outputs": [
                {
                    "output_type": "execute_result",
                    "data": {
                        "text/plain": [
                            "123"
                        ]
                    },
                    "metadata": {},
                    "execution_count": 6
                }
            ],
            "metadata": {}
        },
        {
            "cell_type": "markdown",
            "source": [
                "## Задание 3.2\n",
                "\n",
                "Напишите код, который определяет, является ли матрица квадратной (то есть количество строк равно количеству столбцов). В конце программа должна выводить на экран значение True или False в зависимости от заданной матрицы. Используйте матрицу из предыдущей задачи.\n",
                "\n",
                "В качестве ответа запишите результат вывода."
            ],
            "metadata": {}
        },
        {
            "cell_type": "code",
            "execution_count": 12,
            "source": [
                "test_matrix = [[1, 2, 3], \n",
                "              [7, -1, 2],\n",
                "              [123, 2, -1]]\n",
                "count_row = 0\n",
                "for i in test_matrix:\n",
                "  count_col = 0\n",
                "  for j in i:\n",
                "    count_col += 1\n",
                "    print(f\"count_col = {count_col}\" )\n",
                "  count_row +=1\n",
                "  print(f\"count_row = {count_row}\" )\n",
                "\n",
                "print(count_row == count_col)"
            ],
            "outputs": [
                {
                    "output_type": "stream",
                    "name": "stdout",
                    "text": [
                        "count_col = 1\n",
                        "count_col = 2\n",
                        "count_col = 3\n",
                        "count_row = 1\n",
                        "count_col = 1\n",
                        "count_col = 2\n",
                        "count_col = 3\n",
                        "count_row = 2\n",
                        "count_col = 1\n",
                        "count_col = 2\n",
                        "count_col = 3\n",
                        "count_row = 3\n",
                        "True\n"
                    ]
                }
            ],
            "metadata": {}
        },
        {
            "cell_type": "code",
            "execution_count": 13,
            "source": [
                "test_matrix = [[1, 2, 3], \n",
                "              [7, -1, 2],\n",
                "              [123, 2, -1]]\n",
                "\n",
                "num_lines = len(test_matrix)\n",
                "square_matrix = False\n",
                "\n",
                "for line in test_matrix:\n",
                "  if len(line) == num_lines:\n",
                "    square_matrix = True\n",
                "print(square_matrix)"
            ],
            "outputs": [
                {
                    "output_type": "stream",
                    "name": "stdout",
                    "text": [
                        "True\n"
                    ]
                }
            ],
            "metadata": {}
        },
        {
            "cell_type": "markdown",
            "source": [
                "## 4. Практические примеры\n",
                "# Enumerate\n",
                "функция **enumerate** возвращает кортежи, где на первом месте стоит индекс элемента, а на втором — его значение."
            ],
            "metadata": {}
        },
        {
            "cell_type": "code",
            "execution_count": 14,
            "source": [
                "list_ = [-5, 2, 4, 8, 12, -7, 5]\n",
                "# Функция enumerate возвращает данные в виде кортежей, \n",
                "# где на первом месте стоит индекс, а затем значение \n",
                "# [(0, -5), (1, 2), (2, 4), ...]\n",
                "for i, value in enumerate(list_):  \n",
                "    print(\"Element index: \", i) # индекс элемента\n",
                "    print(\"Element value: \", value)  # с помощью индекса получаем значение элемента\n",
                "    print(\"---\")\n",
                "print(\"End of the cycle\") # конец цикла"
            ],
            "outputs": [
                {
                    "output_type": "stream",
                    "name": "stdout",
                    "text": [
                        "Element index:  0\n",
                        "Element value:  -5\n",
                        "---\n",
                        "Element index:  1\n",
                        "Element value:  2\n",
                        "---\n",
                        "Element index:  2\n",
                        "Element value:  4\n",
                        "---\n",
                        "Element index:  3\n",
                        "Element value:  8\n",
                        "---\n",
                        "Element index:  4\n",
                        "Element value:  12\n",
                        "---\n",
                        "Element index:  5\n",
                        "Element value:  -7\n",
                        "---\n",
                        "Element index:  6\n",
                        "Element value:  5\n",
                        "---\n",
                        "End of the cycle\n"
                    ]
                }
            ],
            "metadata": {}
        },
        {
            "cell_type": "markdown",
            "source": [
                "## Задание 4.1 (на самопроверку)\n",
                "\n",
                "Начинающий программист написал программу, которая находит индекс последнего отрицательного элемента в списке.\n",
                "\n",
                "    list_ = [-5, 2, 4, 8, 12, -7, 5]\n",
                "    # Объявим переменную, в которой будем хранить индекс отрицательного элемента\n",
                "    index_negative = None\n",
                "\n",
                "    for i in range(len(list_)):\n",
                "        if list_[i] < 0:\n",
                "            print(\"Negative number: \", list_[i]) # отрицательное число\n",
                "            index_negative = i  # перезаписываем значение индекса\n",
                "            print(\"Negative number new index: \", index_negative) # новый индекс отрицательного числа\n",
                "        else:\n",
                "            print(\"Positive number: \", list_[i]) # положительное число\n",
                "        print(\"---\")\n",
                "    print(\"End of the cycle\") # конец цикла\n",
                "    print()\n",
                "    print(\"Answer: index of the last negative element = \", index_negative) # ответ: индекс последнего отрицательного элемента\n",
                "\n",
                "Но он не знал, что есть функция **enumerate**.\n",
                "\n",
                "Ваша задача — исправить код так, чтобы он работал с помощью функции **enumerate**."
            ],
            "metadata": {}
        },
        {
            "cell_type": "code",
            "execution_count": 15,
            "source": [
                "list_ = [-5, 2, 4, 8, 12, -7, 5]\n",
                "# Объявим переменную, в которой будем хранить индекс отрицательного элемента\n",
                "index_negative = None\n",
                "\n",
                "for i, val in enumerate(list_):\n",
                "    if val < 0:\n",
                "        print(\"Negative number: \", val) # отрицательное число\n",
                "        index_negative = i  # перезаписываем значение индекса\n",
                "        print(\"Negative number new index: \", index_negative) # новый индекс отрицательного числа\n",
                "    else:\n",
                "        print(\"Positive number: \", val) # положительное число\n",
                "    print(\"---\")\n",
                "print(\"End of the cycle\") # конец цикла\n",
                "print()\n",
                "print(\"Answer: index of the last negative element = \", index_negative) # ответ: индекс последнего отрицательного элемента"
            ],
            "outputs": [
                {
                    "output_type": "stream",
                    "name": "stdout",
                    "text": [
                        "Negative number:  -5\n",
                        "Negative number new index:  0\n",
                        "---\n",
                        "Positive number:  2\n",
                        "---\n",
                        "Positive number:  4\n",
                        "---\n",
                        "Positive number:  8\n",
                        "---\n",
                        "Positive number:  12\n",
                        "---\n",
                        "Negative number:  -7\n",
                        "Negative number new index:  5\n",
                        "---\n",
                        "Positive number:  5\n",
                        "---\n",
                        "End of the cycle\n",
                        "\n",
                        "Answer: index of the last negative element =  5\n"
                    ]
                }
            ],
            "metadata": {}
        },
        {
            "cell_type": "markdown",
            "source": [
                "# Цикл for со строками и словарями\n",
                "\n",
                "**Условие задачи.** С помощью словаря посчитать количество вхождений каждого символа в заданном тексте."
            ],
            "metadata": {}
        },
        {
            "cell_type": "code",
            "execution_count": 19,
            "source": [
                "text = \"\"\"\n",
                "The rabbit-hole went straight on like a tunnel for some way, and then dipped suddenly down, so suddenly that Alice had not a moment to think about stopping herself before she found herself falling down a very deep well.\n",
                "\n",
                "Either the well was very deep, or she fell very slowly, for she had plenty of time as she went down to look about her and to wonder what was going to happen next. First, she tried to look down and make out what she was coming to, but it was too dark to see anything; then she looked at the sides of the well, and noticed that they were filled with cupboards and book-shelves; here and there she saw maps and pictures hung upon pegs. She took down a jar from one of the shelves as she passed; it was labelled `ORANGE MARMALADE', but to her great disappointment it was empty: she did not like to drop the jar for fear of killing somebody, so managed to put it into one of the cupboards as she fell past it.\n",
                "\n",
                "`Well!' thought Alice to herself, `after such a fall as this, I shall think nothing of tumbling down stairs! How brave they'll all think me at home! Why, I wouldn't say anything about it, even if I fell off the top of the house!' (Which was very likely true.)\n",
                "\"\"\"\n",
                "\n",
                "text = text.lower()\n",
                "text = text.replace(\" \", \"\")\n",
                "text = text.replace(\"\\n\", \"\")\n",
                "# print(text)\n",
                "# Символы в верхнем и нижнем регистре будем считать одинаковыми, поэтому приведём текст в нижний регистр и удалим все пробелы и символы переноса строки.\n",
                "count = {}  # для подсчёта символов и их количества\n",
                "for char in text:\n",
                "  if char in count:  # если символ уже встречался, увеличиваем его количество на 1\n",
                "      count[char] += 1\n",
                "  else:\n",
                "      count[char] = 1\n",
                "\n",
                "for char, cnt in count.items():\n",
                "  print(f\"Symbol {char} can be found {cnt} times in the text\") #символ {char} встречается в тексте {cnt} раз"
            ],
            "outputs": [
                {
                    "output_type": "stream",
                    "name": "stdout",
                    "text": [
                        "Symbol t can be found 88 times in the text\n",
                        "Symbol h can be found 63 times in the text\n",
                        "Symbol e can be found 112 times in the text\n",
                        "Symbol r can be found 39 times in the text\n",
                        "Symbol a can be found 70 times in the text\n",
                        "Symbol b can be found 15 times in the text\n",
                        "Symbol i can be found 47 times in the text\n",
                        "Symbol - can be found 2 times in the text\n",
                        "Symbol o can be found 80 times in the text\n",
                        "Symbol l can be found 55 times in the text\n",
                        "Symbol w can be found 31 times in the text\n",
                        "Symbol n can be found 57 times in the text\n",
                        "Symbol s can be found 60 times in the text\n",
                        "Symbol g can be found 17 times in the text\n",
                        "Symbol k can be found 14 times in the text\n",
                        "Symbol u can be found 22 times in the text\n",
                        "Symbol f can be found 28 times in the text\n",
                        "Symbol m can be found 17 times in the text\n",
                        "Symbol y can be found 18 times in the text\n",
                        "Symbol , can be found 13 times in the text\n",
                        "Symbol d can be found 43 times in the text\n",
                        "Symbol p can be found 23 times in the text\n",
                        "Symbol c can be found 9 times in the text\n",
                        "Symbol v can be found 8 times in the text\n",
                        "Symbol . can be found 5 times in the text\n",
                        "Symbol x can be found 1 times in the text\n",
                        "Symbol ; can be found 3 times in the text\n",
                        "Symbol j can be found 2 times in the text\n",
                        "Symbol ` can be found 3 times in the text\n",
                        "Symbol ' can be found 5 times in the text\n",
                        "Symbol : can be found 1 times in the text\n",
                        "Symbol ! can be found 4 times in the text\n",
                        "Symbol ( can be found 1 times in the text\n",
                        "Symbol ) can be found 1 times in the text\n"
                    ]
                }
            ],
            "metadata": {}
        },
        {
            "cell_type": "markdown",
            "source": [
                "## Задание 4.2 (на самопроверку)\n",
                "\n",
                "Дана строка:\n",
                "\n",
                "letters_string = 'kjdKJKSJLKJFLkalsdLAJdjlaksIdakLJDLAs'\n",
                "\n",
                "Ваша задача — привести все символы строки к нижнему регистру.\n",
                "\n",
                "Помните, что строки — неизменяемый тип данных.\n"
            ],
            "metadata": {}
        },
        {
            "cell_type": "code",
            "execution_count": 20,
            "source": [
                "letters_string = 'kjdKJKSJLKJFLkalsdLAJdjlaksIdakLJDLAs'\n",
                "lower_string = letters_string.lower()\n",
                "lower_string"
            ],
            "outputs": [
                {
                    "output_type": "execute_result",
                    "data": {
                        "text/plain": [
                            "'kjdkjksjlkjflkalsdlajdjlaksidakljdlas'"
                        ]
                    },
                    "metadata": {},
                    "execution_count": 20
                }
            ],
            "metadata": {}
        },
        {
            "cell_type": "markdown",
            "source": [
                "# Break\n",
                "→ Рассмотрим пример, когда полезно использовать break для того, чтобы остановить выполнение цикла.\n",
                "\n",
                "**Условие задачи**. Проверить, является ли заданное число степенью тройки."
            ],
            "metadata": {}
        },
        {
            "cell_type": "code",
            "execution_count": 25,
            "source": [
                "n = 101\n",
                "while True:\n",
                "    if n % 3 == 0:\n",
                "        n = n // 3\n",
                "        if n == 1:\n",
                "              break\n",
                "    else:\n",
                "        break"
            ],
            "outputs": [],
            "metadata": {}
        },
        {
            "cell_type": "markdown",
            "source": [
                "# Continue\n",
                "Если в теле цикла встречается ключевое слово **continue**, то цикл пропускает весь код до конца тела цикла и переходит на следующий шаг."
            ],
            "metadata": {}
        },
        {
            "cell_type": "markdown",
            "source": [
                "Условие задачи. В клетке находятся фазаны и кролики. Известно, что у них 35 голов и 94 ноги. Узнайте количество фазанов и количество кроликов."
            ],
            "metadata": {}
        },
        {
            "cell_type": "code",
            "execution_count": 26,
            "source": [
                "heads = 35  # количество голов\n",
                "legs = 94  # количество ног\n",
                "\n",
                "for r in range(heads + 1):  # количество кроликов\n",
                "    for ph in range(heads + 1):  # количество фазанов\n",
                "        #  если суммарное количество голов или ног превышено, переходим на следующий шаг цикла\n",
                "        if (r + ph) > heads or \\\n",
                "            (r * 4 + ph * 2) > legs: \n",
                "            continue\n",
                "        if (r + ph) == heads and (r * 4 + ph * 2) == legs:\n",
                "            print(\"Number of rabbits\", r) # количество кроликов\n",
                "            print(\"Number of pheasants\", ph) # количество фазанов\n",
                "            print(\"---\")"
            ],
            "outputs": [
                {
                    "output_type": "stream",
                    "name": "stdout",
                    "text": [
                        "Number of rabbits 12\n",
                        "Number of pheasants 23\n",
                        "---\n"
                    ]
                }
            ],
            "metadata": {}
        },
        {
            "cell_type": "markdown",
            "source": [
                "# 5. Итоги"
            ],
            "metadata": {}
        },
        {
            "cell_type": "markdown",
            "source": [
                "## Задание 5.1 (на самопроверку)\n",
                "Создайте список из 10 рандомных чисел с помощью модуля random следующим образом:\n",
                "\n",
                "    import random\n",
                "    my_list = []\n",
                "    for i in range(0, 10):\n",
                "        my_list.append(random.randint(0, 10))\n",
                "\n",
                "Необходимо вывести на экран yes, если в списке есть одинаковые числа, и no, если одинаковые числа отсутствуют."
            ],
            "metadata": {}
        },
        {
            "cell_type": "code",
            "execution_count": 27,
            "source": [
                "import random\n",
                "my_list = []\n",
                "for i in range(0, 10):\n",
                "    my_list.append(random.randint(0, 10))\n",
                "print(my_list)\n",
                "\n",
                "similar_numbers = 'no'\n",
                "for digit in my_list:\n",
                "  if my_list.count(digit) > 1:\n",
                "    similar_numbers = 'yes'\n",
                "    break\n",
                "\n",
                "print(similar_numbers)\n"
            ],
            "outputs": [
                {
                    "output_type": "stream",
                    "name": "stdout",
                    "text": [
                        "[4, 4, 4, 8, 4, 10, 8, 0, 3, 9]\n",
                        "yes\n"
                    ]
                }
            ],
            "metadata": {}
        },
        {
            "cell_type": "markdown",
            "source": [
                "## Задание 5.2 (на самопроверку)\n",
                "\n",
                "Задайте некоторый список ***my_list***, содержащий целые числа, с помощью модуля **random**, как и в предыдущей задаче.\n",
                "\n",
                "Используя инструкцию **while**, разработайте программу, которая вычисляет сумму элементов списка.\n"
            ],
            "metadata": {}
        },
        {
            "cell_type": "code",
            "execution_count": 28,
            "source": [
                "import random\n",
                "my_list = []\n",
                "for i in range(0, 10):\n",
                "    my_list.append(random.randint(0, 10))\n",
                "print(my_list)\n",
                "i = 0\n",
                "sum = 0\n",
                "while i < len(my_list):\n",
                "  sum += my_list[i]\n",
                "  i += 1\n",
                "print(sum)\n",
                "  "
            ],
            "outputs": [
                {
                    "output_type": "stream",
                    "name": "stdout",
                    "text": [
                        "[7, 5, 6, 6, 3, 5, 7, 3, 8, 1]\n",
                        "51\n"
                    ]
                }
            ],
            "metadata": {}
        },
        {
            "cell_type": "markdown",
            "source": [
                "## Задание 5.3\n",
                " \n",
                "Задан список из строк:\n",
                "\n",
                "    str_list = ['text', 'morning', 'notepad', 'television', 'ornament']\n",
                "\n",
                "Подсчитайте количество вхождений символа *'t'* в каждую из строк этого списка.\n",
                "\n",
                "Используйте словарь: в качестве ключа запишите в него строку, в качестве значения — число вхождений буквы *'t'* в эту строку (пример вывода: *{'letter': 2, 'hello': 0}*)."
            ],
            "metadata": {}
        },
        {
            "cell_type": "code",
            "execution_count": 31,
            "source": [
                "str_list = ['text', 'morning', 'notepad', 'television', 'ornament']\n",
                "ts = {}\n",
                "# ts.fromkeys(str)\n",
                "# print(ts)\n",
                "char = 't'\n",
                "for str in str_list:\n",
                "  ts.setdefault(str, 0)\n",
                "  for s in str:\n",
                "    if char == s:\n",
                "      ts[str] += 1 \n",
                "\n",
                "print(ts)"
            ],
            "outputs": [
                {
                    "output_type": "stream",
                    "name": "stdout",
                    "text": [
                        "{}\n",
                        "{'text': 2, 'morning': 0, 'notepad': 1, 'television': 1, 'ornament': 1}\n"
                    ]
                }
            ],
            "metadata": {}
        },
        {
            "cell_type": "markdown",
            "source": [
                "## Задание 5.4\n",
                "\n",
                "\n",
                "Вы играете в компьютерную игру, дошли до схватки с финальным боссом, но вот незадача: ваш компьютер «заглючил», и вы не можете управлять вашим персонажем. Босс атакует и каждую секунду наносит один удар, который отнимает у персонажа 80 единиц здоровья. На схватку с боссом ваш персонаж вышел с 500 единицами здоровья.\n",
                "\n",
                "Создайте цикл, позволяющий понять, через сколько секунд босс убьёт вашего персонажа.\n",
                "\n",
                "Для проверки используйте переменную current_health для сохранения текущего уровня здоровья и изменяйте её по ходу цикла, а также переменную attack = 80 для хранения значения атаки Босса.\n",
                "\n",
                "В результате работы программа должна вывести на экран количество секунд, в течение которых будет длиться схватка. Ответ должен быть выведен на экран в виде целого числа без какого-либо дополнительного поясняющего текста."
            ],
            "metadata": {}
        },
        {
            "cell_type": "code",
            "execution_count": 32,
            "source": [
                "current_health = 500\n",
                "attack = 80\n",
                "seconds_num = 0\n",
                "while current_health > 0:\n",
                "  current_health -= attack\n",
                "  seconds_num += 1\n",
                "\n",
                "print(seconds_num)"
            ],
            "outputs": [
                {
                    "output_type": "stream",
                    "name": "stdout",
                    "text": [
                        "7\n"
                    ]
                }
            ],
            "metadata": {}
        },
        {
            "cell_type": "markdown",
            "source": [
                "## Задание 5.5 (на самопроверку)\n",
                "\n",
                "С помощью модуля **random** создайте список с тремя случайными числами в диапазоне от 0 до 100 000:\n",
                "\n",
                "    import random\n",
                "    my_list = []\n",
                "    for i in range(3):\n",
                "        my_list.append(random.randint(0, 100000))\n",
                "\n",
                "Среди этих чисел найдите наибольшее по сумме цифр и выведите его на экран.\n",
                "В этой задаче можно использовать комбинацию циклов **for** и **while**.\n"
            ],
            "metadata": {}
        },
        {
            "cell_type": "code",
            "execution_count": null,
            "source": [
                "import random\n",
                "my_list = []\n",
                "for i in range(3):\n",
                "    my_list.append(random.randint(0, 100000))\n",
                "print(my_list)\n",
                "max_num = 0\n",
                "for num in my_list:\n",
                "  while i < len(num):\n",
                "    sum = \n"
            ],
            "outputs": [],
            "metadata": {}
        },
        {
            "cell_type": "markdown",
            "source": [
                "## Задание 5.6 \n",
                "Дан следующий список из строк:\n",
                "\n",
                "    str_list = ['Hello', 'my', 'name', 'is', 'Ezeikel', 'I', 'like', 'kniting']\n",
                "\n",
                "Выведите на экран по три первых элемента из каждой строки с порядковым номером этой строки.\n",
                "\n",
                "Пример вывода:\n",
                "\n",
                "    0 Bac\n",
                "    1 Mis\n",
                "\n",
                "Используйте функцию **enumerate()** и срезы строк."
            ],
            "metadata": {}
        },
        {
            "cell_type": "code",
            "execution_count": 36,
            "source": [
                "str_list = ['Hello', 'my', 'name', 'is', 'Ezeikel', 'I', 'like', 'kniting']\n",
                "for k, v in enumerate(str_list):\n",
                "    print(k, v[:3])"
            ],
            "outputs": [
                {
                    "output_type": "stream",
                    "name": "stdout",
                    "text": [
                        "0 Hel\n",
                        "1 my\n",
                        "2 nam\n",
                        "3 is\n",
                        "4 Eze\n",
                        "5 I\n",
                        "6 lik\n",
                        "7 kni\n"
                    ]
                }
            ],
            "metadata": {}
        },
        {
            "cell_type": "markdown",
            "source": [
                "## Задание 5.7 \n",
                "Дана следующая строка:\n",
                "\n",
                "    sentence = 'A roboT MAY Not injure a humAn BEING or, tHROugh INACtion, allow a human BEING to come to harm.'\n",
                "\n",
                "Сделайте из этого предложения список слов, которые в него входят.\n",
                "Приведите все символы в словах к нижнему регистру.\n",
                "Отсортируйте список по алфавиту и подсчитайте количество одинаковых слов. Для этого используйте словарь. Ключом будет являться слово, а значением — число его вхождений в предложение.\n"
            ],
            "metadata": {}
        },
        {
            "cell_type": "code",
            "execution_count": 48,
            "source": [
                "sentence = 'A roboT MAY Not injure a humAn BEING or, tHROugh INACtion, allow a human BEING to come to harm.'\n",
                "words = sentence.lower().split(' ')\n",
                "words.sort()\n",
                "# print(words)\n",
                "stats = {}\n",
                "for k, v in enumerate(words):\n",
                "  stats.setdefault(v, 0)\n",
                "  if v in stats:\n",
                "    stats[v] += 1\n",
                "print(stats)\n",
                "\n"
            ],
            "outputs": [
                {
                    "output_type": "stream",
                    "name": "stdout",
                    "text": [
                        "['a', 'a', 'a', 'allow', 'being', 'being', 'come', 'harm.', 'human', 'human', 'inaction,', 'injure', 'may', 'not', 'or,', 'robot', 'through', 'to', 'to']\n",
                        "{'a': 3, 'allow': 1, 'being': 2, 'come': 1, 'harm.': 1, 'human': 2, 'inaction,': 1, 'injure': 1, 'may': 1, 'not': 1, 'or,': 1, 'robot': 1, 'through': 1, 'to': 2}\n"
                    ]
                }
            ],
            "metadata": {}
        },
        {
            "cell_type": "code",
            "execution_count": 47,
            "source": [
                "sentence = 'A roboT MAY Not injure a humAn BEING or, tHROugh INACtion, allow a human BEING to come to harm'\n",
                "sentence = sentence.lower()\n",
                "word_list = sentence.split()\n",
                "word_list.sort()\n",
                "word_dict = {}\n",
                "for word in word_list:\n",
                "  if word not in word_dict.keys():\n",
                "    word_dict[word] = word_list.count(word)\n",
                "\n",
                "print(word_dict)"
            ],
            "outputs": [
                {
                    "output_type": "stream",
                    "name": "stdout",
                    "text": [
                        "{'a': 3, 'allow': 1, 'being': 2, 'come': 1, 'harm': 1, 'human': 2, 'inaction,': 1, 'injure': 1, 'may': 1, 'not': 1, 'or,': 1, 'robot': 1, 'through': 1, 'to': 2}\n"
                    ]
                }
            ],
            "metadata": {}
        }
    ],
    "metadata": {
        "orig_nbformat": 4,
        "language_info": {
            "name": "python",
            "version": "3.8.10",
            "mimetype": "text/x-python",
            "codemirror_mode": {
                "name": "ipython",
                "version": 3
            },
            "pygments_lexer": "ipython3",
            "nbconvert_exporter": "python",
            "file_extension": ".py"
        },
        "kernelspec": {
            "name": "python3",
            "display_name": "Python 3.8.10 64-bit ('venv')"
        },
        "interpreter": {
            "hash": "eaf3fef5f1d0627f71e8e04d3713752e7841f3a197afe839fcc8f5cd2eeb68a8"
        }
    },
    "nbformat": 4,
    "nbformat_minor": 2
}