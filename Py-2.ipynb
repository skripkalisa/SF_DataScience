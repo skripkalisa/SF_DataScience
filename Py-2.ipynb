{
 "metadata": {
  "language_info": {
   "codemirror_mode": {
    "name": "ipython",
    "version": 3
   },
   "file_extension": ".py",
   "mimetype": "text/x-python",
   "name": "python",
   "nbconvert_exporter": "python",
   "pygments_lexer": "ipython3",
   "version": "3.8.10"
  },
  "orig_nbformat": 4,
  "kernelspec": {
   "name": "python3",
   "display_name": "Python 3.8.10 64-bit ('venv')"
  },
  "interpreter": {
   "hash": "48a5dd597f005c8c0d6c817f16fdfa200a7e97951d0afb0adf2e59f32a1d8813"
  }
 },
 "nbformat": 4,
 "nbformat_minor": 2,
 "cells": [
  {
   "cell_type": "markdown",
   "source": [
    "# 2. Списки и кортежи"
   ],
   "metadata": {}
  },
  {
   "cell_type": "markdown",
   "source": [
    "## .append()"
   ],
   "metadata": {}
  },
  {
   "cell_type": "code",
   "execution_count": 1,
   "source": [
    "a = 'order1'\n",
    "b = 'order2'\n",
    "c = 'order3'\n",
    "orders = list()\n",
    "orders.append(a)\n",
    "orders\n",
    "orders.append(b)\n",
    "orders\n",
    "orders.append(c)\n",
    "orders"
   ],
   "outputs": [
    {
     "output_type": "execute_result",
     "data": {
      "text/plain": [
       "['order1', 'order2', 'order3']"
      ]
     },
     "metadata": {},
     "execution_count": 1
    }
   ],
   "metadata": {}
  },
  {
   "cell_type": "code",
   "execution_count": 2,
   "source": [
    "book1 = 'my book'\n",
    "book2 = 'your book'\n",
    "books = ['all_books']\n",
    "books.append(book1)\n",
    "books.append(book2)\n",
    "books"
   ],
   "outputs": [
    {
     "output_type": "execute_result",
     "data": {
      "text/plain": [
       "['all_books', 'my book', 'your book']"
      ]
     },
     "metadata": {},
     "execution_count": 2
    }
   ],
   "metadata": {}
  },
  {
   "cell_type": "markdown",
   "source": [
    "## .clear()"
   ],
   "metadata": {}
  },
  {
   "cell_type": "code",
   "execution_count": 4,
   "source": [
    "letters = ['a', 'b', 'c', 'd', 'e']\n",
    "print(letters)\n",
    "letters.clear()\n",
    "letters"
   ],
   "outputs": [
    {
     "output_type": "stream",
     "name": "stdout",
     "text": [
      "['a', 'b', 'c', 'd', 'e']\n"
     ]
    },
    {
     "output_type": "execute_result",
     "data": {
      "text/plain": [
       "[]"
      ]
     },
     "metadata": {},
     "execution_count": 4
    }
   ],
   "metadata": {}
  },
  {
   "cell_type": "markdown",
   "source": [
    "## .count()"
   ],
   "metadata": {}
  },
  {
   "cell_type": "code",
   "execution_count": 5,
   "source": [
    "numbers = [1, 2, 4, 5, 3, 5, 3, 1, 5]\n",
    "numbers.count(5)"
   ],
   "outputs": [
    {
     "output_type": "execute_result",
     "data": {
      "text/plain": [
       "3"
      ]
     },
     "metadata": {},
     "execution_count": 5
    }
   ],
   "metadata": {}
  },
  {
   "cell_type": "markdown",
   "source": [
    "## copy()\n",
    "\n",
    "Предположим, вы хотите получить копию полки со своими книгами на другой полке. Тогда для копирования вам подойдёт метод .copy()."
   ],
   "metadata": {}
  },
  {
   "cell_type": "code",
   "execution_count": null,
   "source": [
    "a = [1,2,3]\n",
    "b = a.copy()\n",
    "b \n",
    "# [1,2,3]"
   ],
   "outputs": [],
   "metadata": {}
  },
  {
   "cell_type": "markdown",
   "source": [
    "В Python есть синтаксический сахар для данного метода — две квадратные скобки с двоеточием внутри [:]. Мы как бы говорим: «Сделай мне полный срез исходного списка в другую переменную»:"
   ],
   "metadata": {}
  },
  {
   "cell_type": "code",
   "execution_count": 6,
   "source": [
    "a = [1,2,3]\n",
    "b = a[:]\n",
    "b \n",
    "# [1,2,3]"
   ],
   "outputs": [
    {
     "output_type": "execute_result",
     "data": {
      "text/plain": [
       "[1, 2, 3]"
      ]
     },
     "metadata": {},
     "execution_count": 6
    }
   ],
   "metadata": {}
  },
  {
   "cell_type": "code",
   "execution_count": 7,
   "source": [
    "my_books = ['book1', 'book2', 'book3', 'book4', 'book5']\n",
    "tom_books = my_books.copy()\n",
    "print(my_books, tom_books)"
   ],
   "outputs": [
    {
     "output_type": "stream",
     "name": "stdout",
     "text": [
      "['book1', 'book2', 'book3', 'book4', 'book5'] ['book1', 'book2', 'book3', 'book4', 'book5']\n"
     ]
    }
   ],
   "metadata": {}
  },
  {
   "cell_type": "code",
   "execution_count": 8,
   "source": [
    "my_orders = ['order1', 'order2', 'order3', 'order4', 'order5']\n",
    "anne_orders = my_orders[:]\n",
    "print(my_orders)\n",
    "print(anne_orders)"
   ],
   "outputs": [
    {
     "output_type": "stream",
     "name": "stdout",
     "text": [
      "['order1', 'order2', 'order3', 'order4', 'order5']\n",
      "['order1', 'order2', 'order3', 'order4', 'order5']\n"
     ]
    }
   ],
   "metadata": {}
  },
  {
   "cell_type": "markdown",
   "source": [
    "## .extend()"
   ],
   "metadata": {}
  },
  {
   "cell_type": "code",
   "execution_count": 9,
   "source": [
    "all_things =['order1', 'order2', 'order3']\n",
    "only_books = ['book1', 'book2']\n",
    "all_things.extend(only_books)\n",
    "all_things"
   ],
   "outputs": [
    {
     "output_type": "execute_result",
     "data": {
      "text/plain": [
       "['order1', 'order2', 'order3', 'book1', 'book2']"
      ]
     },
     "metadata": {},
     "execution_count": 9
    }
   ],
   "metadata": {}
  },
  {
   "cell_type": "markdown",
   "source": [
    "## .reverse()\n",
    "\n",
    "Вновь представим полку с книгами. Вы каждый день берёте с полки разные книги и замечаете, что к книгам, находящимся справа, вы обращаетесь чаще, чем к тем, что слева. Однако дотягиваться до книг вам удобнее слева. Тогда вы решаете развернуть книги так, чтобы крайняя правая стала крайней левой."
   ],
   "metadata": {}
  },
  {
   "cell_type": "code",
   "execution_count": null,
   "source": [
    "a = [1,2,3,4,5]\n",
    "a.reverse()\n",
    "a \n",
    "# [5,4,3,2,1]"
   ],
   "outputs": [],
   "metadata": {}
  },
  {
   "cell_type": "code",
   "execution_count": null,
   "source": [
    "a = [1,2,3,4,5]\n",
    "b = a[::-1]\n",
    "b \n",
    "# [5,4,3,2,1]"
   ],
   "outputs": [],
   "metadata": {}
  },
  {
   "cell_type": "code",
   "execution_count": 15,
   "source": [
    "nums = [i for i in range(1,11)]\n",
    "nums.reverse()\n",
    "nums"
   ],
   "outputs": [
    {
     "output_type": "execute_result",
     "data": {
      "text/plain": [
       "[10, 9, 8, 7, 6, 5, 4, 3, 2, 1]"
      ]
     },
     "metadata": {},
     "execution_count": 15
    }
   ],
   "metadata": {}
  },
  {
   "cell_type": "markdown",
   "source": [
    "## .sort()"
   ],
   "metadata": {}
  },
  {
   "cell_type": "code",
   "execution_count": 16,
   "source": [
    "random_values = [3, 5, 0, -1, 2, 10, 15, -5]\n",
    "random_values.sort()\n",
    "random_values"
   ],
   "outputs": [
    {
     "output_type": "execute_result",
     "data": {
      "text/plain": [
       "[-5, -1, 0, 2, 3, 5, 10, 15]"
      ]
     },
     "metadata": {},
     "execution_count": 16
    }
   ],
   "metadata": {}
  },
  {
   "cell_type": "code",
   "execution_count": 17,
   "source": [
    "list1 = [5, 0.2, 'hello there', [1,2,3,4],'bye']\n",
    "list1"
   ],
   "outputs": [
    {
     "output_type": "execute_result",
     "data": {
      "text/plain": [
       "[5, 0.2, 'hello there', [1, 2, 3, 4], 'bye']"
      ]
     },
     "metadata": {},
     "execution_count": 17
    }
   ],
   "metadata": {}
  },
  {
   "cell_type": "markdown",
   "source": [
    "## Кортеж"
   ],
   "metadata": {}
  },
  {
   "cell_type": "code",
   "execution_count": 18,
   "source": [
    "a = 3, \n",
    "# случайно поставили запятую\n",
    "a \n",
    "# (3, ) вместо обычной числовой переменной получился кортеж"
   ],
   "outputs": [
    {
     "output_type": "execute_result",
     "data": {
      "text/plain": [
       "(3,)"
      ]
     },
     "metadata": {},
     "execution_count": 18
    }
   ],
   "metadata": {}
  },
  {
   "cell_type": "code",
   "execution_count": 22,
   "source": [
    "tpl = tuple()\n",
    "tpl"
   ],
   "outputs": [
    {
     "output_type": "execute_result",
     "data": {
      "text/plain": [
       "()"
      ]
     },
     "metadata": {},
     "execution_count": 22
    }
   ],
   "metadata": {}
  },
  {
   "cell_type": "code",
   "execution_count": 25,
   "source": [
    "tpl2 = 255,\n",
    "tpl2"
   ],
   "outputs": [
    {
     "output_type": "execute_result",
     "data": {
      "text/plain": [
       "(255,)"
      ]
     },
     "metadata": {},
     "execution_count": 25
    }
   ],
   "metadata": {}
  },
  {
   "cell_type": "code",
   "execution_count": 26,
   "source": [
    "tpl3 = (15, 22, 0)\n",
    "tpl3"
   ],
   "outputs": [
    {
     "output_type": "execute_result",
     "data": {
      "text/plain": [
       "(15, 22, 0)"
      ]
     },
     "metadata": {},
     "execution_count": 26
    }
   ],
   "metadata": {}
  },
  {
   "cell_type": "markdown",
   "source": [
    "# 3. Типы данных: словарь"
   ],
   "metadata": {}
  },
  {
   "cell_type": "code",
   "execution_count": 2,
   "source": [
    "empty_dict1 = dict()\n",
    "empty_dict2 = {}\n",
    "\n",
    "print(empty_dict1)\n",
    "print(empty_dict2)"
   ],
   "outputs": [
    {
     "output_type": "stream",
     "name": "stdout",
     "text": [
      "{}\n",
      "{}\n"
     ]
    }
   ],
   "metadata": {}
  },
  {
   "cell_type": "code",
   "execution_count": 3,
   "source": [
    "alphabet_dict = {'a':1, 'b':2, 'c':3, 'd':4, 'e':5}\n",
    "alphabet_dict"
   ],
   "outputs": [
    {
     "output_type": "execute_result",
     "data": {
      "text/plain": [
       "{'a': 1, 'b': 2, 'c': 3, 'd': 4, 'e': 5}"
      ]
     },
     "metadata": {},
     "execution_count": 3
    }
   ],
   "metadata": {}
  },
  {
   "cell_type": "code",
   "execution_count": 10,
   "source": [
    "place_and_money = {1: 100, 2: 50, 3: 10}\n",
    "place_and_money[4] = 5\n",
    "place_and_money[3] = 25\n",
    "place_and_money"
   ],
   "outputs": [
    {
     "output_type": "execute_result",
     "data": {
      "text/plain": [
       "{1: 100, 2: 50, 3: 25, 4: 5}"
      ]
     },
     "metadata": {},
     "execution_count": 10
    }
   ],
   "metadata": {}
  },
  {
   "cell_type": "markdown",
   "source": [
    "## .clear()"
   ],
   "metadata": {}
  },
  {
   "cell_type": "code",
   "execution_count": 11,
   "source": [
    "friends = {\"Коля\": 180, \"Марина\": 176, \"Миша\": 158, \"Дима\": 201, \"Яна\": 183, \"Нина\": 156}\n",
    "friends.clear()\n",
    "friends \n",
    "# {}\n",
    "\n",
    "# Также можно использовать обычное присвоение переменной friends пустого словаря:\n",
    "\n",
    "friends = {} \n",
    "# {}\n",
    "\n"
   ],
   "outputs": [
    {
     "output_type": "execute_result",
     "data": {
      "text/plain": [
       "{}"
      ]
     },
     "metadata": {},
     "execution_count": 11
    }
   ],
   "metadata": {}
  },
  {
   "cell_type": "markdown",
   "source": [
    "### Важно! Если вы выполнили операцию .clear(), данные обратно вернуть нельзя (только если вы предусмотрительно не сохранили копию словаря в другую переменную перед «стиранием»)."
   ],
   "metadata": {}
  },
  {
   "cell_type": "markdown",
   "source": [
    "## .keys()"
   ],
   "metadata": {}
  },
  {
   "cell_type": "code",
   "execution_count": 12,
   "source": [
    "friends = {\"Коля\": 180, \"Марина\": 176, \"Миша\": 158, \"Дима\": 201, \"Яна\": 183, \"Нина\": 156}\n",
    "friends.keys() \n",
    "# dict_keys([“Коля”, “Марина”, “Миша”, “Дима”, “Яна”, “Нина”])\n",
    "# Важно отметить, что метод .keys() возвращает не просто список, а структуру типа dict_keys. "
   ],
   "outputs": [
    {
     "output_type": "execute_result",
     "data": {
      "text/plain": [
       "dict_keys(['Коля', 'Марина', 'Миша', 'Дима', 'Яна', 'Нина'])"
      ]
     },
     "metadata": {},
     "execution_count": 12
    }
   ],
   "metadata": {}
  },
  {
   "cell_type": "code",
   "execution_count": 13,
   "source": [
    "place_and_money = {1: 100, 2: 50, 3: 10}\n",
    "place_and_money.keys()"
   ],
   "outputs": [
    {
     "output_type": "execute_result",
     "data": {
      "text/plain": [
       "dict_keys([1, 2, 3])"
      ]
     },
     "metadata": {},
     "execution_count": 13
    }
   ],
   "metadata": {}
  },
  {
   "cell_type": "code",
   "execution_count": 14,
   "source": [
    "name_to_age = {'Anne': 22, 'Anton': 27, 'Phillip': 30}\n",
    "name_to_age.keys()"
   ],
   "outputs": [
    {
     "output_type": "execute_result",
     "data": {
      "text/plain": [
       "dict_keys(['Anne', 'Anton', 'Phillip'])"
      ]
     },
     "metadata": {},
     "execution_count": 14
    }
   ],
   "metadata": {}
  },
  {
   "cell_type": "markdown",
   "source": [
    "## .values()"
   ],
   "metadata": {}
  },
  {
   "cell_type": "code",
   "execution_count": 15,
   "source": [
    "name_to_age = {'Anne': 22, 'Anton': 27, 'Phillip': 30}\n",
    "name_to_age.values()"
   ],
   "outputs": [
    {
     "output_type": "execute_result",
     "data": {
      "text/plain": [
       "dict_values([22, 27, 30])"
      ]
     },
     "metadata": {},
     "execution_count": 15
    }
   ],
   "metadata": {}
  },
  {
   "cell_type": "code",
   "execution_count": 16,
   "source": [
    "place_and_money = {1: 100, 2: 50, 3: 10}\n",
    "place_and_money.values()"
   ],
   "outputs": [
    {
     "output_type": "execute_result",
     "data": {
      "text/plain": [
       "dict_values([100, 50, 10])"
      ]
     },
     "metadata": {},
     "execution_count": 16
    }
   ],
   "metadata": {}
  },
  {
   "cell_type": "markdown",
   "source": [
    "## .get()"
   ],
   "metadata": {}
  },
  {
   "cell_type": "markdown",
   "source": [
    "> Ещё один часто используемый метод в словарях. По сути, это «умная» замена обычному обращению по ключу через квадратные скобки. Почему «умная»? Если использовать только квадратные скобки при обращении к словарю, то при отсутствии нужного ключа программа выдаст ошибку и закончит работу.\n",
    ">\n",
    "> В случае с .get() программа продолжит работать, но вернёт константу None — единственного представителя типа NoneType, который показывает, что значения нет, оно пусто."
   ],
   "metadata": {}
  },
  {
   "cell_type": "code",
   "execution_count": null,
   "source": [
    "# Ещё один часто используемый метод в словарях. По сути, это «умная» замена обычному обращению по ключу через квадратные скобки. Почему «умная»? Если использовать только квадратные скобки при обращении к словарю, то при отсутствии нужного ключа программа выдаст ошибку и закончит работу.\n",
    "\n",
    "# В случае с .get() программа продолжит работать, но вернёт константу None — единственного представителя типа NoneType, который показывает, что значения нет, оно пусто.\n",
    "\n",
    "friends[\"Матвей\"] \n",
    "#- Ошибка KeyError: \"Матвей\"\n",
    "\n",
    "friends.get(\"Матвей\") \n",
    "#- None\n",
    "\n",
    "# Также .get() позволяет вывести значение по умолчанию для отсутствующего ключа. Это второй аргумент в методе .get():\n",
    "\n",
    "friends.get(\"Матвей\", \"У меня нет такого друга.\") \n",
    "#- \"У меня нет такого друга.\"\n",
    "\n",
    "friends.get(\"Матвей\", 100) \n",
    "#- 100"
   ],
   "outputs": [],
   "metadata": {}
  },
  {
   "cell_type": "code",
   "execution_count": 19,
   "source": [
    "place_and_money = {1: 100, 2: 50, 3: 10}\n",
    "place_and_money.get(20, 0)"
   ],
   "outputs": [
    {
     "output_type": "execute_result",
     "data": {
      "text/plain": [
       "0"
      ]
     },
     "metadata": {},
     "execution_count": 19
    }
   ],
   "metadata": {}
  },
  {
   "cell_type": "code",
   "execution_count": 20,
   "source": [
    "name_to_age = {'Anne': 22, 'Anton': 27, 'Phillip': 30}\n",
    "name_to_age.get('Danny', -1)"
   ],
   "outputs": [
    {
     "output_type": "execute_result",
     "data": {
      "text/plain": [
       "-1"
      ]
     },
     "metadata": {},
     "execution_count": 20
    }
   ],
   "metadata": {}
  },
  {
   "cell_type": "markdown",
   "source": [
    "## .update()"
   ],
   "metadata": {}
  },
  {
   "cell_type": "code",
   "execution_count": 21,
   "source": [
    "friends = {\"Коля\": 180, \"Марина\": 176, \"Миша\": 158, \"Дима\": 201, \"Яна\": 183, \"Нина\": 156}\n",
    "\n",
    "\n",
    "friends.update({\"Стас\":171, \"Настя\": 163})\n",
    "friends \n",
    "# {\"Коля\": 180, \"Марина\": 176, \"Миша\": 158, \"Дима\": 201, \"Яна\": 183, \"Нина\": 156, \"Стас\":171, \"Настя\": 163}\n",
    "\n",
    "friends.update({\"Стас\":183})\n",
    "friends \n",
    "# {\"Коля\" 180, \"Марина\": 176, \"Миша\": 158, \"Дима\": 201, \"Яна\": 183, \"Нина\": 156, \"Стас\":183, \"Настя\": 163}"
   ],
   "outputs": [
    {
     "output_type": "execute_result",
     "data": {
      "text/plain": [
       "{'Коля': 180,\n",
       " 'Марина': 176,\n",
       " 'Миша': 158,\n",
       " 'Дима': 201,\n",
       " 'Яна': 183,\n",
       " 'Нина': 156,\n",
       " 'Стас': 183,\n",
       " 'Настя': 163}"
      ]
     },
     "metadata": {},
     "execution_count": 21
    }
   ],
   "metadata": {}
  },
  {
   "cell_type": "code",
   "execution_count": 27,
   "source": [
    "place_and_money = {1: 100, 2: 50, 3: 10}\n",
    "place_and_money.update({4: 5, 5: 1})\n",
    "place_and_money"
   ],
   "outputs": [
    {
     "output_type": "execute_result",
     "data": {
      "text/plain": [
       "{1: 100, 2: 50, 3: 10, 4: 5, 5: 1}"
      ]
     },
     "metadata": {},
     "execution_count": 27
    }
   ],
   "metadata": {}
  },
  {
   "cell_type": "code",
   "execution_count": 30,
   "source": [
    "name_to_age = {'Anne': 22, 'Anton': 27, 'Phillip': 30}\n",
    "name_to_age.update({'Anne' : 23, 'Phillip':29})\n",
    "name_to_age"
   ],
   "outputs": [
    {
     "output_type": "execute_result",
     "data": {
      "text/plain": [
       "{'Anne': 23, 'Anton': 27, 'Phillip': 29}"
      ]
     },
     "metadata": {},
     "execution_count": 30
    }
   ],
   "metadata": {}
  },
  {
   "cell_type": "markdown",
   "source": [
    "## .pop()"
   ],
   "metadata": {}
  },
  {
   "cell_type": "code",
   "execution_count": 31,
   "source": [
    "friends = {\"Коля\": 180, \"Марина\": 176, \"Миша\": 158, \"Дима\": 201, \"Яна\": 183, \"Нина\": 156}\n",
    "best_friend_height = friends.pop(\"Миша\")\n",
    "friends \n",
    "# {\"Коля\": 180, \"Марина\": 176, \"Дима\": 201, \"Яна\": 183, \"Нина\": 156, \"Стас\":183, \"Настя\": 163}\n",
    "best_friend_height \n",
    "# 158"
   ],
   "outputs": [
    {
     "output_type": "execute_result",
     "data": {
      "text/plain": [
       "158"
      ]
     },
     "metadata": {},
     "execution_count": 31
    }
   ],
   "metadata": {}
  },
  {
   "cell_type": "code",
   "execution_count": 32,
   "source": [
    "place_and_money = {1: 100, 2: 50, 3: 10}\n",
    "third_place = place_and_money.pop(3)\n",
    "third_place"
   ],
   "outputs": [
    {
     "output_type": "execute_result",
     "data": {
      "text/plain": [
       "10"
      ]
     },
     "metadata": {},
     "execution_count": 32
    }
   ],
   "metadata": {}
  },
  {
   "cell_type": "code",
   "execution_count": 33,
   "source": [
    "name_to_age = {'Anne': 22, 'Anton': 27, 'Phillip': 30}\n",
    "mate = name_to_age.pop('Anton')\n",
    "mate"
   ],
   "outputs": [
    {
     "output_type": "execute_result",
     "data": {
      "text/plain": [
       "27"
      ]
     },
     "metadata": {},
     "execution_count": 33
    }
   ],
   "metadata": {}
  },
  {
   "cell_type": "markdown",
   "source": [
    "## .setdefault()"
   ],
   "metadata": {}
  },
  {
   "cell_type": "code",
   "execution_count": 34,
   "source": [
    "friends = {\"Коля\": 180, \"Марина\": 176, \"Дима\": 201, \"Яна\": 183, \"Нина\": 156, \"Стас\":183, \"Настя\": 163}\n",
    "friends.setdefault(\"Настя\",100)\n",
    "friends[\"Настя\"] \n",
    "# 100"
   ],
   "outputs": [
    {
     "output_type": "execute_result",
     "data": {
      "text/plain": [
       "163"
      ]
     },
     "metadata": {},
     "execution_count": 34
    }
   ],
   "metadata": {}
  },
  {
   "cell_type": "code",
   "execution_count": 35,
   "source": [
    "place_and_money = {1: 100, 2: 50, 3: 10}\n",
    "place_and_money.setdefault(10,1)\n",
    "place_and_money"
   ],
   "outputs": [
    {
     "output_type": "execute_result",
     "data": {
      "text/plain": [
       "{1: 100, 2: 50, 3: 10, 10: 1}"
      ]
     },
     "metadata": {},
     "execution_count": 35
    }
   ],
   "metadata": {}
  },
  {
   "cell_type": "code",
   "execution_count": 36,
   "source": [
    "name_to_age = {'Anne': 22, 'Anton': 27, 'Phillip': 30}\n",
    "name_to_age.setdefault('Anne', 32)\n",
    "name_to_age"
   ],
   "outputs": [
    {
     "output_type": "execute_result",
     "data": {
      "text/plain": [
       "{'Anne': 22, 'Anton': 27, 'Phillip': 30}"
      ]
     },
     "metadata": {},
     "execution_count": 36
    }
   ],
   "metadata": {}
  },
  {
   "cell_type": "markdown",
   "source": [
    "### Важно! В качестве ключа словаря должен выступать неизменямый тип данных (числа, строки, кортежи), а в качестве значения может выступать любая структура данных."
   ],
   "metadata": {}
  },
  {
   "cell_type": "code",
   "execution_count": 37,
   "source": [
    "d = {(1,2): \"hello\", \"my name is\": \"Curt\", 5: (7,7,7), \"info\": {\"name\": \"stive\", \"age\": 15, \"cities\": [\"Moscow\", \"New York\"]}}\n",
    "d"
   ],
   "outputs": [
    {
     "output_type": "execute_result",
     "data": {
      "text/plain": [
       "{(1, 2): 'hello',\n",
       " 'my name is': 'Curt',\n",
       " 5: (7, 7, 7),\n",
       " 'info': {'name': 'stive', 'age': 15, 'cities': ['Moscow', 'New York']}}"
      ]
     },
     "metadata": {},
     "execution_count": 37
    }
   ],
   "metadata": {}
  },
  {
   "cell_type": "code",
   "execution_count": 38,
   "source": [
    "test_dict = {}\n",
    "test_dict.update({5:[3,4,5], (3,4,5):'strong man'})\n",
    "test_dict"
   ],
   "outputs": [
    {
     "output_type": "execute_result",
     "data": {
      "text/plain": [
       "{5: [3, 4, 5], (3, 4, 5): 'strong man'}"
      ]
     },
     "metadata": {},
     "execution_count": 38
    }
   ],
   "metadata": {}
  },
  {
   "cell_type": "code",
   "execution_count": 40,
   "source": [
    "test_dict2 = dict()\n",
    "test_dict2.update({'name': 'Sancho', 'surname': 'Panso', 'info':{'age': 35, 'country': 'Mexico'}})\n",
    "test_dict2"
   ],
   "outputs": [
    {
     "output_type": "execute_result",
     "data": {
      "text/plain": [
       "{'name': 'Sancho',\n",
       " 'surname': 'Panso',\n",
       " 'info': {'age': 35, 'country': 'Mexico'}}"
      ]
     },
     "metadata": {},
     "execution_count": 40
    }
   ],
   "metadata": {}
  },
  {
   "cell_type": "code",
   "execution_count": 44,
   "source": [
    "test_dict3 = {}\n",
    "test_dict3.update({'info':[10,15,27], 'about':{'game': 'football', 'period': 5} })\n",
    "test_dict3.update({'about': 'dont know'})\n",
    "test_dict3"
   ],
   "outputs": [
    {
     "output_type": "execute_result",
     "data": {
      "text/plain": [
       "{'info': [10, 15, 27], 'about': 'dont know'}"
      ]
     },
     "metadata": {},
     "execution_count": 44
    }
   ],
   "metadata": {}
  },
  {
   "cell_type": "markdown",
   "source": [
    "# 4. Типы данных: множества"
   ],
   "metadata": {}
  },
  {
   "cell_type": "markdown",
   "source": [
    "## Задание множества"
   ],
   "metadata": {}
  },
  {
   "cell_type": "code",
   "execution_count": null,
   "source": [
    "Пустое множество можно задать одним способом — через конструктор типов dset().\n",
    "\n",
    "set1 = set()\n",
    "set1 \n",
    "# set()\n",
    "\n",
    "Так же можно задать множество, уже содержащее элементы:\n",
    "\n",
    "s1 = set(\"hello\")\n",
    "s1 \n",
    "#  {‘h’, ‘l’, ‘e’, ‘o’}"
   ],
   "outputs": [],
   "metadata": {}
  },
  {
   "cell_type": "markdown",
   "source": [
    "### Важно! Вы можете создать множество с помощью фигурных скобок, но внутри множества уже должны быть элементы (хотя бы один). Пустые фигурные скобки указывают, что создаётся словарь, а не множество — про это нужно помнить."
   ],
   "metadata": {}
  },
  {
   "cell_type": "code",
   "execution_count": null,
   "source": [
    "s1 = {}\n",
    "type(s1) \n",
    "# <class ‘dict’>\n",
    "\n",
    "s2 = {1,2,3}\n",
    "type(s2) \n",
    "# <class ‘set’>"
   ],
   "outputs": [],
   "metadata": {}
  },
  {
   "cell_type": "code",
   "execution_count": 45,
   "source": [
    "s1 = set()\n",
    "s1"
   ],
   "outputs": [
    {
     "output_type": "execute_result",
     "data": {
      "text/plain": [
       "set()"
      ]
     },
     "metadata": {},
     "execution_count": 45
    }
   ],
   "metadata": {}
  },
  {
   "cell_type": "code",
   "execution_count": 46,
   "source": [
    "s2 = {5, 10, 3, 2, 11}\n",
    "s2"
   ],
   "outputs": [
    {
     "output_type": "execute_result",
     "data": {
      "text/plain": [
       "{2, 3, 5, 10, 11}"
      ]
     },
     "metadata": {},
     "execution_count": 46
    }
   ],
   "metadata": {}
  },
  {
   "cell_type": "code",
   "execution_count": 49,
   "source": [
    "s3 = set('wow thats cool')\n",
    "s3"
   ],
   "outputs": [
    {
     "output_type": "execute_result",
     "data": {
      "text/plain": [
       "{' ', 'a', 'c', 'h', 'l', 'o', 's', 't', 'w'}"
      ]
     },
     "metadata": {},
     "execution_count": 49
    }
   ],
   "metadata": {}
  },
  {
   "cell_type": "markdown",
   "source": [
    "## Методы множеств\n",
    "## .add()"
   ],
   "metadata": {}
  },
  {
   "cell_type": "code",
   "execution_count": null,
   "source": [
    "s = {1, 2, 3, 4}\n",
    "s.add(5)\n",
    "s \n",
    "# {1, 2, 3, 4, 5}"
   ],
   "outputs": [],
   "metadata": {}
  },
  {
   "cell_type": "code",
   "execution_count": 50,
   "source": [
    "s1 = set('abcde')\n",
    "s1.add('hello')\n",
    "s1"
   ],
   "outputs": [
    {
     "output_type": "execute_result",
     "data": {
      "text/plain": [
       "{'a', 'b', 'c', 'd', 'e', 'hello'}"
      ]
     },
     "metadata": {},
     "execution_count": 50
    }
   ],
   "metadata": {}
  },
  {
   "cell_type": "markdown",
   "source": [
    "## .discard(), .remove()"
   ],
   "metadata": {}
  },
  {
   "cell_type": "code",
   "execution_count": null,
   "source": [
    "Методы discard() и .remove() позволяют убрать элемент из множества.\n",
    "\n",
    "Их отличие друг от друга состоит в том, что при удалении уже отсутствующего элемента из множества discard() ничего не сделает, а вот .remove() выкинет ошибку.\n",
    "Суть выбора заключается в логике вашего алгоритма. Если вам важно, чтобы удаление элемента было явным, используйте метод .remove()."
   ],
   "outputs": [],
   "metadata": {}
  },
  {
   "cell_type": "code",
   "execution_count": null,
   "source": [
    "s1 = {1,2,3,4,5}\n",
    "s1.remove(10)\n",
    "# Ошибка KeyError: 10\n",
    "s1.discard(10)\n",
    "# Ничего не произошло"
   ],
   "outputs": [],
   "metadata": {}
  },
  {
   "cell_type": "code",
   "execution_count": 51,
   "source": [
    "s1 = set('abcde')\n",
    "s1.remove('d')\n",
    "s1"
   ],
   "outputs": [
    {
     "output_type": "execute_result",
     "data": {
      "text/plain": [
       "{'a', 'b', 'c', 'e'}"
      ]
     },
     "metadata": {},
     "execution_count": 51
    }
   ],
   "metadata": {}
  },
  {
   "cell_type": "code",
   "execution_count": 52,
   "source": [
    "s2 = {'e', 'b', 'a', 'c'}\n",
    "s2"
   ],
   "outputs": [
    {
     "output_type": "execute_result",
     "data": {
      "text/plain": [
       "{'a', 'b', 'c', 'e'}"
      ]
     },
     "metadata": {},
     "execution_count": 52
    }
   ],
   "metadata": {}
  },
  {
   "cell_type": "code",
   "execution_count": 53,
   "source": [
    "s1 = set('abcdef')\n",
    "s1.discard('f')\n",
    "s1"
   ],
   "outputs": [
    {
     "output_type": "execute_result",
     "data": {
      "text/plain": [
       "{'a', 'b', 'c', 'd', 'e'}"
      ]
     },
     "metadata": {},
     "execution_count": 53
    }
   ],
   "metadata": {}
  },
  {
   "cell_type": "code",
   "execution_count": 54,
   "source": [
    "s1 = set('abcdef')\n",
    "s1.remove('f')\n",
    "s1"
   ],
   "outputs": [
    {
     "output_type": "execute_result",
     "data": {
      "text/plain": [
       "{'a', 'b', 'c', 'd', 'e'}"
      ]
     },
     "metadata": {},
     "execution_count": 54
    }
   ],
   "metadata": {}
  },
  {
   "cell_type": "markdown",
   "source": [
    "## .union()"
   ],
   "metadata": {}
  },
  {
   "cell_type": "code",
   "execution_count": 55,
   "source": [
    "cluster1 = {\"item1\", \"item2\", \"item3\", \"item4\"}\n",
    "cluster2 = {\"item2\", \"item3\", \"item5\", \"item7\"}\n",
    "cluster1.union(cluster2) \n",
    "# {\"item1\", \"item2\", \"item3\", \"item5\", \"item7\"}"
   ],
   "outputs": [
    {
     "output_type": "execute_result",
     "data": {
      "text/plain": [
       "{'item1', 'item2', 'item3', 'item4', 'item5', 'item7'}"
      ]
     },
     "metadata": {},
     "execution_count": 55
    }
   ],
   "metadata": {}
  },
  {
   "cell_type": "code",
   "execution_count": 57,
   "source": [
    "alpha_set = set('abcde')\n",
    "name = set('bad boy')\n",
    "alpha_set.union(name)\n"
   ],
   "outputs": [
    {
     "output_type": "execute_result",
     "data": {
      "text/plain": [
       "{' ', 'a', 'b', 'c', 'd', 'e', 'o', 'y'}"
      ]
     },
     "metadata": {},
     "execution_count": 57
    }
   ],
   "metadata": {}
  },
  {
   "cell_type": "code",
   "execution_count": 59,
   "source": [
    "num_set = set(i for i in range(11))\n",
    "date_num = set([1,9,4,8])\n",
    "num_set.union(date_num)"
   ],
   "outputs": [
    {
     "output_type": "execute_result",
     "data": {
      "text/plain": [
       "{0, 1, 2, 3, 4, 5, 6, 7, 8, 9, 10}"
      ]
     },
     "metadata": {},
     "execution_count": 59
    }
   ],
   "metadata": {}
  },
  {
   "cell_type": "markdown",
   "source": [
    "## .intersection()"
   ],
   "metadata": {}
  },
  {
   "cell_type": "code",
   "execution_count": null,
   "source": [
    "При .intersection() берутся только те элементы, которые есть в обоих множествах."
   ],
   "outputs": [],
   "metadata": {}
  },
  {
   "cell_type": "code",
   "execution_count": null,
   "source": [
    "cluster1 = {\"item1\", \"item2\", \"item3\", \"item4\"}\n",
    "cluster2 = {\"item2\", \"item3\", \"item5\", \"item7\"}\n",
    "cluster1.intersection(cluster2) \n",
    "# {\"item2\", \"item3\"}"
   ],
   "outputs": [],
   "metadata": {}
  },
  {
   "cell_type": "code",
   "execution_count": 60,
   "source": [
    "alpha_set = set('abcde')\n",
    "name = set('bad boy')\n",
    "alpha_set.intersection(name)"
   ],
   "outputs": [
    {
     "output_type": "execute_result",
     "data": {
      "text/plain": [
       "{'a', 'b', 'd'}"
      ]
     },
     "metadata": {},
     "execution_count": 60
    }
   ],
   "metadata": {}
  },
  {
   "cell_type": "code",
   "execution_count": 61,
   "source": [
    "num_set = set(i for i in range(11))\n",
    "date_num = set([1,9,4,8])\n",
    "num_set.intersection(date_num)"
   ],
   "outputs": [
    {
     "output_type": "execute_result",
     "data": {
      "text/plain": [
       "{1, 4, 8, 9}"
      ]
     },
     "metadata": {},
     "execution_count": 61
    }
   ],
   "metadata": {}
  },
  {
   "cell_type": "markdown",
   "source": [
    "## .difference()\n",
    "\n",
    ".difference() выбирает только те элементы из первого множества, которых нет во втором множестве."
   ],
   "metadata": {}
  },
  {
   "cell_type": "code",
   "execution_count": null,
   "source": [
    "cluster1 = {\"item1\", \"item2\", \"item3\", \"item4\", \"item5\"}\n",
    "\n",
    "cluster2 = {\"item3\", \"item4\", \"item5\", \"item6\"}\n",
    "cluster1.difference(cluster2) \n",
    "# {\"item1\", \"item2\"}"
   ],
   "outputs": [],
   "metadata": {}
  },
  {
   "cell_type": "code",
   "execution_count": 62,
   "source": [
    "alpha_set = set('abcde')\n",
    "name = set('bad boy')\n",
    "alpha_set.difference(name)"
   ],
   "outputs": [
    {
     "output_type": "execute_result",
     "data": {
      "text/plain": [
       "{'c', 'e'}"
      ]
     },
     "metadata": {},
     "execution_count": 62
    }
   ],
   "metadata": {}
  },
  {
   "cell_type": "code",
   "execution_count": 63,
   "source": [
    "m_set = set(i for i in range(11))\n",
    "date_num = set([1,9,4,8])\n",
    "num_set.difference(date_num)"
   ],
   "outputs": [
    {
     "output_type": "execute_result",
     "data": {
      "text/plain": [
       "{0, 2, 3, 5, 6, 7, 10}"
      ]
     },
     "metadata": {},
     "execution_count": 63
    }
   ],
   "metadata": {}
  },
  {
   "cell_type": "markdown",
   "source": [
    "## .issubset()\n",
    "\n",
    "Метод .issubset() используется для того, чтобы узнать, все ли элементы из первого множества есть во втором множестве."
   ],
   "metadata": {}
  },
  {
   "cell_type": "code",
   "execution_count": 64,
   "source": [
    "cluster1 = {\"item1\", \"item2\", \"item3\"}\n",
    "\n",
    "cluster2 = {\"item2\", \"item3\", \"item4\", \"item5\", \"item6\"}\n",
    "\n",
    "cluster1.issubset(cluster2) \n",
    "# False"
   ],
   "outputs": [
    {
     "output_type": "execute_result",
     "data": {
      "text/plain": [
       "False"
      ]
     },
     "metadata": {},
     "execution_count": 64
    }
   ],
   "metadata": {}
  },
  {
   "cell_type": "markdown",
   "source": [
    "# 5. Приведение типов"
   ],
   "metadata": {}
  },
  {
   "cell_type": "markdown",
   "source": [
    "Напомним, что функция int() не округляет, а «обрубает» вещественную часть. То есть после применения функции int() на числах 7.4, 7.6 на выходе получится одно и тоже число (7).\n",
    "\n",
    "Целое число при делении можно получить, если использовать не один знак деления (/), а два (//)."
   ],
   "metadata": {}
  },
  {
   "cell_type": "code",
   "execution_count": 66,
   "source": [
    "a = 3\n",
    "b = float(a)\n",
    "print(type(b), b)"
   ],
   "outputs": [
    {
     "output_type": "stream",
     "name": "stdout",
     "text": [
      "<class 'float'> 3.0\n"
     ]
    }
   ],
   "metadata": {}
  },
  {
   "cell_type": "code",
   "execution_count": 69,
   "source": [
    "b = 3.0\n",
    "e = int(b)/4\n",
    "print(type(e), e)"
   ],
   "outputs": [
    {
     "output_type": "stream",
     "name": "stdout",
     "text": [
      "<class 'float'> 0.75\n"
     ]
    }
   ],
   "metadata": {}
  },
  {
   "cell_type": "code",
   "execution_count": 70,
   "source": [
    "num1 = 3\n",
    "num2 = 3.5\n",
    "sum1 = num1 + num2\n",
    "sum2 = float(num1) + num2\n",
    "print(sum1, sum2)"
   ],
   "outputs": [
    {
     "output_type": "stream",
     "name": "stdout",
     "text": [
      "6.5 6.5\n"
     ]
    }
   ],
   "metadata": {}
  },
  {
   "cell_type": "code",
   "execution_count": 72,
   "source": [
    "int_one = 1\n",
    "str_one = str(int_one)\n",
    "print(str_one)"
   ],
   "outputs": [
    {
     "output_type": "stream",
     "name": "stdout",
     "text": [
      "1\n"
     ]
    }
   ],
   "metadata": {}
  },
  {
   "cell_type": "code",
   "execution_count": 73,
   "source": [
    "str_age_begin = 'my age is '\n",
    "int_age = 18\n",
    "result_string = str_age_begin + str(int_age)\n",
    "print(result_string)"
   ],
   "outputs": [
    {
     "output_type": "stream",
     "name": "stdout",
     "text": [
      "my age is 18\n"
     ]
    }
   ],
   "metadata": {}
  },
  {
   "cell_type": "code",
   "execution_count": 74,
   "source": [
    "str_brothers_begin = 'I have '\n",
    "count = 5\n",
    "str_brothers_end = ' brothers'\n",
    "result_sentence = str_brothers_begin + str(count) + str_brothers_end\n",
    "print(result_sentence)"
   ],
   "outputs": [
    {
     "output_type": "stream",
     "name": "stdout",
     "text": [
      "I have 5 brothers\n"
     ]
    }
   ],
   "metadata": {}
  },
  {
   "cell_type": "markdown",
   "source": [
    "## Преобразование строк в числа"
   ],
   "metadata": {}
  },
  {
   "cell_type": "code",
   "execution_count": null,
   "source": [
    "my_date = \"1990.0\"\n",
    "mom_date = \"1957\"\n",
    "int_mom_date = int(mom_date)\n",
    "float_my_date =  float(my_date)\n",
    "float_my_date - int_mom_date \n",
    "# Получим уже число, а не ошибку. И число это будет равно 33.0."
   ],
   "outputs": [],
   "metadata": {}
  },
  {
   "cell_type": "code",
   "execution_count": null,
   "source": [
    "Если попытаться преобразовать число с плавающей точкой, представленное в качестве строки, в целый тип, можно получить ошибку:\n",
    "\n",
    "my_date = \"1990.0\"\n",
    "int(my_date) # ValueError: invalid literal for int() with base 10: ‘1990.0’"
   ],
   "outputs": [],
   "metadata": {}
  },
  {
   "cell_type": "markdown",
   "source": [
    "Дело в том, что int() делает внутри себя проверку на соответствие строки целому представлению. Если это не так, то выбрасывается ошибка (например, ошибка выше). Будьте внимательны."
   ],
   "metadata": {}
  },
  {
   "cell_type": "markdown",
   "source": [
    "## Преобразование в кортежи и списки"
   ],
   "metadata": {}
  },
  {
   "cell_type": "code",
   "execution_count": null,
   "source": [
    "dictionary = {\"Anne\": 15, \"Sam\": 30, \"Marie\": 22}\n",
    "only_keys = dictionary.keys()\n",
    "only_keys \n",
    "# dict_keys([\"Anne\", \"Sam\", \"Marie\"])\n",
    "\n",
    "only_keys + [\"Tom\", \"Curt\"] \n",
    "# TypeError: unsupported operand type(s) for +: 'dict_keys' and 'list'\n",
    "\n",
    "# Нужно преобразование:\n",
    "only_keys = list(only_keys)\n",
    "only_keys + [\"Tom\", \"Curt\"] \n",
    "# \"Anne\", \"Sam\", \"Marie\", \"Tom\", \"Karl\"]"
   ],
   "outputs": [],
   "metadata": {}
  },
  {
   "cell_type": "code",
   "execution_count": null,
   "source": [
    "input_list = [\"Collin\", 23, \"LA\"]\n",
    "# создаём новый ключ для словаря. Но пока этот ключ в виде списка.\n",
    "input_place = \"2st place\"\n",
    "# также определяем значение для нового ключа.\n",
    "\n",
    "d[input_list] = Input_place \n",
    "# TypeError: unhashable type: 'list'\n",
    "\n",
    "# Возникает ошибка, так как список не может быть ключом для словаря — нужно преобразовать список в кортеж:\n",
    "\n",
    "input_list_as_tuple = tuple(input_list)\n",
    "# преобразуем список в кортеж через конструктор типов tuple()\n",
    "\n",
    "d[input_list_as_tuple] = input_place\n",
    "# добавляем новый ключ и значение в словарь и выводим результат\n",
    "d \n",
    "# {(\"Amanda\", 22, \"NY\"): \"3rd place\", (\"Collin\", 23, \"LA\"): \"2st place\"}"
   ],
   "outputs": [],
   "metadata": {}
  },
  {
   "cell_type": "code",
   "execution_count": 75,
   "source": [
    "list1 = [i for i in range(1,6)]\n",
    "tpl1 = tuple(list1)\n",
    "tpl1"
   ],
   "outputs": [
    {
     "output_type": "execute_result",
     "data": {
      "text/plain": [
       "(1, 2, 3, 4, 5)"
      ]
     },
     "metadata": {},
     "execution_count": 75
    }
   ],
   "metadata": {}
  },
  {
   "cell_type": "code",
   "execution_count": 76,
   "source": [
    "tpl1 = tuple(set('abcde'))\n",
    "list2 = list(tpl1)\n",
    "list2"
   ],
   "outputs": [
    {
     "output_type": "execute_result",
     "data": {
      "text/plain": [
       "['a', 'b', 'e', 'c', 'd']"
      ]
     },
     "metadata": {},
     "execution_count": 76
    }
   ],
   "metadata": {}
  },
  {
   "cell_type": "code",
   "execution_count": 79,
   "source": [
    "list1 = []\n",
    "for i in range(1,4):\n",
    "    list1.append(i)\n",
    "# list1.append(1, 2, 3) - Error\n",
    "list1"
   ],
   "outputs": [
    {
     "output_type": "execute_result",
     "data": {
      "text/plain": [
       "[1, 2, 3]"
      ]
     },
     "metadata": {},
     "execution_count": 79
    }
   ],
   "metadata": {}
  },
  {
   "cell_type": "code",
   "execution_count": 83,
   "source": [
    "list2 = list(range(-5,15,2))\n",
    "list3 = list(range(1,5))\n",
    "list3.extend(list2)\n",
    "list3"
   ],
   "outputs": [
    {
     "output_type": "execute_result",
     "data": {
      "text/plain": [
       "[1, 2, 3, 4, -5, -3, -1, 1, 3, 5, 7, 9, 11, 13]"
      ]
     },
     "metadata": {},
     "execution_count": 83
    }
   ],
   "metadata": {}
  },
  {
   "cell_type": "code",
   "execution_count": 87,
   "source": [
    "list6 = [3, 1, -10, 5, 11, 20, 1, -10]\n",
    "list7 = list6.copy()\n",
    "list6.sort()\n",
    "# print(list6)\n",
    "list_result = list6[::-1]\n",
    "print(list7, list_result)"
   ],
   "outputs": [
    {
     "output_type": "stream",
     "name": "stdout",
     "text": [
      "[3, 1, -10, 5, 11, 20, 1, -10] [20, 11, 5, 3, 1, 1, -10, -10]\n"
     ]
    }
   ],
   "metadata": {}
  },
  {
   "cell_type": "code",
   "execution_count": 89,
   "source": [
    "list1 = [10, 15]\n",
    "tpl1 =tuple(list1)\n",
    "dict1 = dict({tpl1:'hello'})\n",
    "dict1"
   ],
   "outputs": [
    {
     "output_type": "execute_result",
     "data": {
      "text/plain": [
       "{(10, 15): 'hello'}"
      ]
     },
     "metadata": {},
     "execution_count": 89
    }
   ],
   "metadata": {}
  },
  {
   "cell_type": "code",
   "execution_count": 93,
   "source": [
    "dict1 = {'name':'unknown'}\n",
    "dict2 = {'name':'Tom'}\n",
    "print(dict1, dict2, dict1.keys(), dict1.values())\n",
    "# print(dict1.items())\n"
   ],
   "outputs": [
    {
     "output_type": "stream",
     "name": "stdout",
     "text": [
      "{'name': 'unknown'} {'name': 'Tom'} dict_keys(['name']) dict_values(['unknown'])\n"
     ]
    }
   ],
   "metadata": {}
  },
  {
   "cell_type": "code",
   "execution_count": 1,
   "source": [
    "s1 = set('hello')\n",
    "s2 = {'w', 'o', 'w'}  # or s2 = set(['w', 'o', 'w'])\n",
    "print(s1.union(s2), s1.intersection(s2), s1.difference(s2))"
   ],
   "outputs": [
    {
     "output_type": "stream",
     "name": "stdout",
     "text": [
      "{'l', 'e', 'o', 'h', 'w'} {'o'} {'e', 'l', 'h'}\n"
     ]
    }
   ],
   "metadata": {}
  },
  {
   "cell_type": "code",
   "execution_count": 96,
   "source": [
    "result = 'age is ' + str(15)\n",
    "result"
   ],
   "outputs": [
    {
     "output_type": "execute_result",
     "data": {
      "text/plain": [
       "'age is 15'"
      ]
     },
     "metadata": {},
     "execution_count": 96
    }
   ],
   "metadata": {}
  },
  {
   "cell_type": "code",
   "execution_count": null,
   "source": [],
   "outputs": [],
   "metadata": {}
  }
 ]
}