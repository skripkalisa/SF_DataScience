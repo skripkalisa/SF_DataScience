{
    "cells": [
        {
            "cell_type": "markdown",
            "source": [
                "# 1. Введение"
            ],
            "metadata": {}
        },
        {
            "cell_type": "markdown",
            "source": [
                "# 2. Функции в Python\n",
                "\n",
                "## Оператор return и несколько переменных\n",
                "\n",
                "В Python достаточно перечислить несколько аргументов через запятую, чтобы они вернулись вместе в виде кортежа."
            ],
            "metadata": {}
        },
        {
            "cell_type": "code",
            "execution_count": 1,
            "source": [
                "def get_time_tuple(distance, speed):\n",
                "    # Получаем целое число часов в пути\n",
                "    hours = distance // speed\n",
                "    # Получаем остаток км в пути\n",
                "    distance_left = distance % speed\n",
                "    # Переводим скорость из км/ч в км/мин:\n",
                "    # за одну минуту можно проехать расстояние\n",
                "    # в 60 раз меньше, чем за 1 час\n",
                "    kms_per_minute = speed / 60\n",
                "    # Делим оставшееся расстояние на скорость в км/мин.\n",
                "    # и округляем до целого\n",
                "    minutes = round(distance_left / kms_per_minute)\n",
                "    \n",
                "    # Перечисляем аргументы через запятую.\n",
                "    # Они будут возвращены функцией в виде кортежа.\n",
                "    return hours, minutes\n",
                "\n",
                "result = get_time_tuple(120, 100)\n",
                "print(result)\n",
                "# Будет напечатано:\n",
                "# (1, 12)\n",
                "\n",
                "# Нулевой элемент кортежа — часы\n",
                "# Первый элемент —  минуты\n",
                "print(\"Hours to travel:\", result[0])\n",
                "print(\"Minutes to travel:\", result[1])\n",
                "# Будет напечатано:\n",
                "# Hours to travel: 1\n",
                "# Minutes to travel: 12"
            ],
            "outputs": [
                {
                    "output_type": "stream",
                    "name": "stdout",
                    "text": [
                        "(1, 12)\n",
                        "Hours to travel: 1\n",
                        "Minutes to travel: 12\n"
                    ]
                }
            ],
            "metadata": {}
        },
        {
            "cell_type": "code",
            "execution_count": null,
            "source": [
                "# Через запятую перечисляем переменные, в которые сохранится результат\n",
                "hours, minutes = get_time_tuple(120, 100)\n",
                "# Красиво напечатаем результат\n",
                "print(\"Hours to travel:\", hours)\n",
                "print(\"Minutes to travel:\", minutes)\n",
                "# Будет напечатано:\n",
                "# Hours to travel: 1\n",
                "# Minutes to travel: 12"
            ],
            "outputs": [],
            "metadata": {}
        },
        {
            "cell_type": "markdown",
            "source": [
                "## Задание 3.2 (на самопроверку)\n",
                "\n",
                "Модифицируйте функцию root так, чтобы передавать степень корня было необязательно. Если степень корня не передана, функция должна возвращать значение квадратного корня.\n",
                "\n",
                "Проверьте своё решение, вызвав функцию root:\n",
                "```py\n",
                "print(root(81))\n",
                "# Должно быть напечатано:\n",
                "# 9.0\n",
                "```\n"
            ],
            "metadata": {}
        },
        {
            "cell_type": "code",
            "execution_count": 2,
            "source": [
                "# В функцию должны передаваться 2 значения:\n",
                "# число и степень корня\n",
                "def root(value, n = 2):\n",
                "  # Как мы уже выяснили, чтобы посчитать\n",
                "  # корень степени n из числа, можно возвести это число\n",
                "  # в степень 1/n\n",
                "  if n == 0:\n",
                "    raise ValueError(\"Wrong square root radical value\")\n",
                "  result = value ** (1/n)\n",
                "  return result\n",
                "\n",
                "# Посчитаем корень 3-ей степени (кубический корень) из 27\n",
                "print(root(27, 3))\n",
                "# Будет напечатано:\n",
                "# 3.0\n",
                "\n",
                "print(root(81))\n",
                "# Должно быть напечатано:\n",
                "# 9.0"
            ],
            "outputs": [
                {
                    "output_type": "stream",
                    "name": "stdout",
                    "text": [
                        "3.0\n",
                        "9.0\n"
                    ]
                }
            ],
            "metadata": {}
        },
        {
            "cell_type": "markdown",
            "source": [
                "# 4. Продвинутая передача аргументов\n",
                "\n",
                "## Обработка неизвестного заранее числа аргументов в Python"
            ],
            "metadata": {}
        },
        {
            "cell_type": "code",
            "execution_count": 3,
            "source": [
                "# В массив args будут записаны все переданные\n",
                "# порядковые аргументы\n",
                "def mean(*args):\n",
                "  # Среднее значение — это сумма всех значений,\n",
                "  # делённая на число этих значений\n",
                "  # Функция sum — встроенная, она возвращает\n",
                "  # сумму чисел\n",
                "  result = sum(args) / len(args)\n",
                "  return result\n",
                " \n",
                "# Передадим аргументы в функцию через запятую,\n",
                "# чтобы посчитать их среднее\n",
                "print(mean(5,4,4,3))\n",
                "# Будет напечатано\n",
                "# 4.0"
            ],
            "outputs": [
                {
                    "output_type": "stream",
                    "name": "stdout",
                    "text": [
                        "4.0\n"
                    ]
                }
            ],
            "metadata": {}
        },
        {
            "cell_type": "markdown",
            "source": [
                "Только что вы увидели в аргументах запись *args. Здесь * — это не символ умножения, а оператор распаковки. Все порядковые аргументы будут записаны в переменную args. Args — это принятое в Python обозначение для порядковых аргументов, однако можно называть эту переменную любым другим подходящим образом."
            ],
            "metadata": {}
        },
        {
            "cell_type": "code",
            "execution_count": 4,
            "source": [
                "def mean(*numbers):\n",
                "   # С помощью встроенной функции type\n",
                "   # узнаем тип объекта numbers\n",
                "   print(type(numbers))\n",
                "   # Напечатаем содержимое объекта numbers\n",
                "   print(numbers)\n",
                "   result = sum(numbers) / len(numbers)\n",
                "   return result\n",
                " \n",
                "print(mean(5,4,4,3))\n",
                "# Будет напечатано\n",
                "# <class 'tuple'>\n",
                "# (5, 4, 4, 3)\n",
                "# 4.0"
            ],
            "outputs": [
                {
                    "output_type": "stream",
                    "name": "stdout",
                    "text": [
                        "<class 'tuple'>\n",
                        "(5, 4, 4, 3)\n",
                        "4.0\n"
                    ]
                }
            ],
            "metadata": {}
        },
        {
            "cell_type": "markdown",
            "source": [
                "#### После аргументов, записанных через *args, не могут идти другие порядковые аргументы:"
            ],
            "metadata": {}
        },
        {
            "cell_type": "code",
            "execution_count": 5,
            "source": [
                "# В качестве первого аргумента принимаем фамилию\n",
                "# студента, а затем уже его оценки через запятую\n",
                "def mean_mark(name, *marks):\n",
                "   result = sum(marks) / len(marks)\n",
                "   # Не возвращаем результат, а печатаем его\n",
                "   print(name+':', result)\n",
                " \n",
                "mean_mark(\"Ivanov\", 5, 5, 5, 4)\n",
                "mean_mark(\"Petrov\", 5, 3, 5, 4)\n",
                "# Будет напечатано:\n",
                "# Ivanov: 4.75\n",
                "# Petrov: 4.25"
            ],
            "outputs": [
                {
                    "output_type": "stream",
                    "name": "stdout",
                    "text": [
                        "Ivanov: 4.75\n",
                        "Petrov: 4.25\n"
                    ]
                }
            ],
            "metadata": {}
        },
        {
            "cell_type": "code",
            "execution_count": 6,
            "source": [
                "def mult(*args):\n",
                "    # Вместо pass напишите тело функции\n",
                "    product = 1\n",
                "    for arg in args:\n",
                "      product *= arg\n",
                "    return product\n",
                "print(mult(3,5,10))\n",
                "# Должно быть напечатано:\n",
                "# 150"
            ],
            "outputs": [
                {
                    "output_type": "stream",
                    "name": "stdout",
                    "text": [
                        "150\n"
                    ]
                }
            ],
            "metadata": {}
        },
        {
            "cell_type": "code",
            "execution_count": 8,
            "source": [
                "# В переменную kwargs будут записаны все\n",
                "# именованные аргументы\n",
                "def schedule(**kwargs):\n",
                "   # Узнаем тип объекта kwargs\n",
                "   print(type(kwargs))\n",
                "   # Напечатаем объект kwargs\n",
                "   print(kwargs)\n",
                " \n",
                "schedule(monday='Python', tuesday='SQL', friday='ML')\n",
                "# Будет напечатано:\n",
                "# <class 'dict'>\n",
                "# {'monday': 'Python', 'tuesday': 'SQL', 'friday': 'ML'}"
            ],
            "outputs": [
                {
                    "output_type": "stream",
                    "name": "stdout",
                    "text": [
                        "<class 'dict'>\n",
                        "{'monday': 'Python', 'tuesday': 'SQL', 'friday': 'ML'}\n"
                    ]
                }
            ],
            "metadata": {}
        },
        {
            "cell_type": "code",
            "execution_count": 9,
            "source": [
                "def schedule(**kwargs):\n",
                "   print(\"Week schedule:\")\n",
                "   for key in kwargs:\n",
                "       print(key, kwargs[key], sep=' - ')\n",
                " \n",
                "schedule(monday='Python', tuesday='SQL', friday='ML')\n",
                "# Будет напечатано:\n",
                "# Week schedule:\n",
                "# monday — Python\n",
                "# tuesday — SQL\n",
                "# friday — ML"
            ],
            "outputs": [
                {
                    "output_type": "stream",
                    "name": "stdout",
                    "text": [
                        "Week schedule:\n",
                        "monday - Python\n",
                        "tuesday - SQL\n",
                        "friday - ML\n"
                    ]
                }
            ],
            "metadata": {}
        },
        {
            "cell_type": "markdown",
            "source": [
                "### Оператор ** можно использовать по аналогии с * для передачи в функцию нескольких именованных аргументов. В данном случае они должны представлять из себя словарь, который будет распакован."
            ],
            "metadata": {}
        },
        {
            "cell_type": "code",
            "execution_count": 21,
            "source": [
                "def print_lists(*args, **how):\n",
                "    # Напишите функцию вместо pass\n",
                "  for arg in args:\n",
                "    print(*arg, **how)\n",
                "\n",
                "print_lists([1,2,3], [4,5,6], [7,8,9], sep=', ', end='; ')\n",
                "# 1, 2, 3; 4, 5, 6; 7, 8, 9;\n",
                "\n",
                "print_lists([1,2,3], [4,5,6], [7,8,9])\n",
                "# 1 2 3\n",
                "# 4 5 6\n",
                "# 7 8 9"
            ],
            "outputs": [
                {
                    "output_type": "stream",
                    "name": "stdout",
                    "text": [
                        "1, 2, 3; 4, 5, 6; 7, 8, 9; 1 2 3\n",
                        "4 5 6\n",
                        "7 8 9\n"
                    ]
                }
            ],
            "metadata": {}
        },
        {
            "cell_type": "code",
            "execution_count": 10,
            "source": [
                "def saver():\n",
                "    # Вместо pass напишите тело функции\n",
                "    total = 0\n",
                "    def func(x):\n",
                "      nonlocal total\n",
                "      total += x\n",
                "      return total\n",
                "    return func\n",
                "\n",
                "\n",
                "\n",
                "pig = saver()\n",
                "print(pig(25))\n",
                "print(pig(100))\n",
                "print(pig(19))\n",
                "# 25\n",
                "# 125\n",
                "# 144"
            ],
            "outputs": [
                {
                    "output_type": "stream",
                    "name": "stdout",
                    "text": [
                        "25\n",
                        "125\n",
                        "144\n"
                    ]
                }
            ],
            "metadata": {}
        },
        {
            "cell_type": "code",
            "execution_count": 14,
            "source": [
                "def fib(n):\n",
                "  if n == 0: return 0\n",
                "  if n == 1: return 1\n",
                "  return fib(n-2) + fib(n -1)\n",
                "    # Вместо pass напишите тело функции\n",
                "    # pass\n",
                "\n",
                "print(fib(0))\n",
                "print(fib(2))\n",
                "print(fib(6))\n",
                "# 0\n",
                "# 1\n",
                "# 8"
            ],
            "outputs": [
                {
                    "output_type": "stream",
                    "name": "stdout",
                    "text": [
                        "0\n",
                        "1\n",
                        "8\n"
                    ]
                }
            ],
            "metadata": {}
        },
        {
            "cell_type": "code",
            "execution_count": 19,
            "source": [
                "def inf_iter(l_in):\n",
                "    # Вместо pass напишите тело функции\n",
                "    while True:\n",
                "      for el in l_in:\n",
                "          yield el\n",
                "l = [101, 102, 103]\n",
                "gen = inf_iter(l)\n",
                "for _ in range(10):\n",
                "   print(next(gen))"
            ],
            "outputs": [
                {
                    "output_type": "stream",
                    "name": "stdout",
                    "text": [
                        "101\n",
                        "102\n",
                        "103\n",
                        "101\n",
                        "102\n",
                        "103\n",
                        "101\n",
                        "102\n",
                        "103\n",
                        "101\n"
                    ]
                }
            ],
            "metadata": {}
        },
        {
            "cell_type": "markdown",
            "source": [
                "# 8. Lambda-функции\n",
                "\n",
                "## Задание 8.1 (на самопроверку)\n",
                "\n",
                "В качестве упражнения попробуйте переписать использованную **lambda**-функцию в классический вид (с **def**). Назовите её *get_length*.\n",
                "\n",
                "Затем воспользуйтесь полученной функцией для сортировки списка:\n",
                "```py\n",
                "new_list = ['bbb', 'ababa','aaa', 'aaaaa',  'cc']\n",
                "new_list.sort(key=get_length)\n",
                "print(new_list)\n",
                "# Должно быть напечатано:\n",
                "# ['cc', 'bbb', 'aaa', 'ababa', 'aaaaa']\n",
                "```\n"
            ],
            "metadata": {}
        },
        {
            "cell_type": "code",
            "execution_count": 20,
            "source": [
                "def get_length(name):\n",
                "  return len(name)\n",
                "\n",
                "new_list = ['bbb', 'ababa','aaa', 'aaaaa',  'cc']\n",
                "new_list.sort(key=get_length)\n",
                "print(new_list)\n",
                "# Должно быть напечатано:\n",
                "# ['cc', 'bbb', 'aaa', 'ababa', 'aaaaa']"
            ],
            "outputs": [
                {
                    "output_type": "stream",
                    "name": "stdout",
                    "text": [
                        "['cc', 'bbb', 'aaa', 'ababa', 'aaaaa']\n"
                    ]
                }
            ],
            "metadata": {}
        },
        {
            "cell_type": "markdown",
            "source": [
                "## Задание 8.3 \n",
                "\n",
                "Напишите lambda-функцию для расчёта гипотенузы прямоугольного треугольника: она принимает на вход длины двух катетов и возвращает длину гипотенузы (третьей, самой длинной стороны прямоугольного треугольника).\n",
                "\n",
                "Формула:\n",
                "\n",
                ", где и — длины катетов, — длина гипотенузы. Сохраните эту функцию в переменную hyp.\n",
                "\n",
                "Пример работы функции:\n",
                "```py\n",
                "print(hyp(3,4))\n",
                "print(hyp(1,9))\n",
                "# 5.0\n",
                "# 9.055385138137417\n",
                "\n"
            ],
            "metadata": {}
        },
        {
            "cell_type": "code",
            "execution_count": 21,
            "source": [
                "# Напишите lambda-функцию\n",
                "hyp = lambda a, b: (a**2 + b**2) ** (1/2)\n",
                "\n",
                "print(hyp(3,4))\n",
                "print(hyp(1,9))\n",
                "# 5.0\n",
                "# 9.055385138137417"
            ],
            "outputs": [
                {
                    "output_type": "stream",
                    "name": "stdout",
                    "text": [
                        "5.0\n",
                        "9.055385138137417\n"
                    ]
                }
            ],
            "metadata": {}
        },
        {
            "cell_type": "markdown",
            "source": [
                "## Задание 8.4 \n",
                "\n",
                "Напишите функцию sort_sides, которая сортирует переданный в неё список.\n",
                "\n",
                "Входной список состоит из кортежей с парами чисел — длинами катетов прямоугольных треугольников.\n",
                "\n",
                "Функция должна возвращать список, отсортированный по возрастанию длин гипотенуз треугольников.\n",
                "\n",
                "Примечание: вам пригодится lambda-функция из предыдущего задания. При этом вам потребуется заменить lambda от 2 аргументов на lamba от одного аргумента и обращаться к элементам кортежа уже при вычислении гипотенузы.\n",
                "\n",
                "Пример работы функции:\n",
                "  ```py\n",
                "  print(sort_sides([(3,4), (1,2), (10,10)]))\n",
                "  # [(1, 2), (3, 4), (10, 10)]"
            ],
            "metadata": {}
        },
        {
            "cell_type": "code",
            "execution_count": 29,
            "source": [
                "def sort_sides(l_in): \n",
                "  l_in.sort(key = lambda ct: (ct[0]**2 + ct[1]**2) ** (1/2))\n",
                "  return l_in\n",
                "    # Вместо pass напишите свою функцию\n",
                "\n",
                "print(sort_sides([(3,4), (1,2), (10,10)]))\n",
                "# [(1, 2), (3, 4), (10, 10)] "
            ],
            "outputs": [
                {
                    "output_type": "stream",
                    "name": "stdout",
                    "text": [
                        "[(1, 2), (3, 4), (10, 10)]\n"
                    ]
                }
            ],
            "metadata": {}
        },
        {
            "cell_type": "markdown",
            "source": [],
            "metadata": {}
        },
        {
            "cell_type": "code",
            "execution_count": null,
            "source": [],
            "outputs": [],
            "metadata": {}
        },
        {
            "cell_type": "markdown",
            "source": [
                "## Задание 11.14 \n",
                "\n",
                "Напишите рекурсивную функцию power(val, n), которая возводит число в заданную целую натуральную степень (или в степень 0).\n",
                "\n",
                "Использовать встроенный оператор ** для возведения в степень запрещено.\n",
                "\n",
                "В качестве первого аргумента функция принимает число, в качестве второго — желаемую степень.\n",
                "\n",
                "Примечание: любое число в степени 0 — 1, любое число в степени 1 — это же число.\n",
                "\n",
                "Пример работы функции:\n",
                "```py\n",
                "print(power(25,0))\n",
                "print(power(-5,4))\n",
                "# 1\n",
                "# 625\n",
                "\n"
            ],
            "metadata": {}
        },
        {
            "cell_type": "code",
            "execution_count": 30,
            "source": [
                "def power(val, n):\n",
                "    # Вместо pass напишите тело функции\n",
                "    if n == 0: return 1\n",
                "    if n == 1: return val\n",
                "    return power(val, n -1)*val\n",
                "print(power(25,0))\n",
                "print(power(-5,4))\n",
                "# 1\n",
                "# 625"
            ],
            "outputs": [
                {
                    "output_type": "stream",
                    "name": "stdout",
                    "text": [
                        "1\n",
                        "625\n"
                    ]
                }
            ],
            "metadata": {}
        },
        {
            "cell_type": "markdown",
            "source": [
                "## Задание 11.15 \n",
                "\n",
                "Напишите функцию is_leap(year), которая принимает на вход год и возвращает True, если год високосный, иначе — False.\n",
                "\n",
                "Условие для проверки на високосность: год делится на 400 или год делится на 4, но не на 100. Подробнее об этом можно узнать здесь.\n",
                "\n",
                "Пример работы функции:\n",
                "```py\n",
                "print(is_leap(2000))\n",
                "print(is_leap(1900))\n",
                "print(is_leap(2020))\n",
                "# True\n",
                "# False\n",
                "# True"
            ],
            "metadata": {}
        },
        {
            "cell_type": "code",
            "execution_count": 31,
            "source": [
                "def is_leap(year):\n",
                "    if year % 400 == 0:\n",
                "        return True\n",
                "    if year % 4 == 0:\n",
                "        if year % 100 != 0:\n",
                "            return True\n",
                "    return False\n",
                "    # Вместо pass напишите тело функции\n",
                "    # pass\n",
                "\n",
                "print(is_leap(2000))\n",
                "print(is_leap(1900))\n",
                "print(is_leap(2020))\n",
                "# True\n",
                "# False\n",
                "# True"
            ],
            "outputs": [
                {
                    "output_type": "stream",
                    "name": "stdout",
                    "text": [
                        "True\n",
                        "False\n",
                        "True\n"
                    ]
                }
            ],
            "metadata": {}
        },
        {
            "cell_type": "markdown",
            "source": [
                "## Задание 11.16 \n",
                "\n",
                "Напишите функцию check_date(day, month, year), которая проверяет корректность даты рождения по следующим условиям:\n",
                "\n",
                "  >  Все аргументы должны быть целыми числами (проверить с помощью type(day) is int).\n",
                "  >  Годом рождения не может быть год до 1900 и год после 2022.\n",
                "  >  День рождения должен находиться между крайними значениями с учётом месяца и високосности года.\n",
                "\n",
                "Если дата корректна, вернуть True, иначе — False. \n",
                "\n",
                "Примечание: использовать встроенные модули для работы с датами нельзя.\n",
                "\n",
                "Функция check_date должна содержать в себе функцию is_leap из предыдущего задания.\n",
                ":   Пример работы функции:\n",
                "\n",
                "```py\n",
                "print(check_date(18,9,1999))\n",
                "print(check_date(29,2,2000))\n",
                "print(check_date(29,2,2021))\n",
                "print(check_date(13,13,2021))\n",
                "print(check_date(13.5,12,2021))\n",
                "# True\n",
                "# True\n",
                "# False\n",
                "# False\n",
                "# False\n",
                "```\n",
                "\n"
            ],
            "metadata": {}
        },
        {
            "cell_type": "code",
            "execution_count": 36,
            "source": [
                "def check_date(day, month, year):\n",
                "    # Вместо pass напишите тело функции\n",
                "  def is_leap(year):\n",
                "    if year % 400 == 0:\n",
                "        return True\n",
                "    if year % 4 == 0:\n",
                "        if year % 100 != 0:\n",
                "            return True\n",
                "    return False\n",
                "\n",
                "  months_30 = [4, 6, 9, 11]\n",
                "  months_31 = [1, 3, 5, 7, 8, 10, 12]\n",
                "  feb = 28\n",
                "  if is_leap(year) : feb = 29\n",
                "  if type(year) is int  and type(month) is int and type(day) is int:\n",
                "    if 1900 < year < 2022:\n",
                "      if month in months_30:\n",
                "        if 1 <= day <= 30:\n",
                "          return True\n",
                "      if month in months_31:\n",
                "        if 1<= day <=31:\n",
                "          return True\n",
                "      if month == 2:\n",
                "        if 1 <= day <= feb:\n",
                "          return True\n",
                "\n",
                "  return False\n",
                "\n",
                "\n",
                "\n",
                "print(check_date(18,9,1999))\n",
                "print(check_date(29,2,2000))\n",
                "print(check_date(29,2,2021))\n",
                "print(check_date(13,13,2021))\n",
                "print(check_date(13.5,12,2021))\n",
                "# True\n",
                "# True\n",
                "# False\n",
                "# False\n",
                "# False"
            ],
            "outputs": [
                {
                    "output_type": "stream",
                    "name": "stdout",
                    "text": [
                        "True\n",
                        "True\n",
                        "False\n",
                        "False\n",
                        "False\n"
                    ]
                }
            ],
            "metadata": {}
        },
        {
            "cell_type": "markdown",
            "source": [
                "## Задание 11.17 \n",
                "\n",
                "Напишите функцию register(surname, name, date, middle_name, registry).\n",
                "\n",
                "Эта функция принимает на вход фамилию, имя, дату рождения (в виде кортежа из трёх чисел — день, месяц, год), отчество и список, в который необходимо сохранить полученные аргументы в виде кортежа в следующем порядке:\n",
                "\n",
                "  фамилия, имя, отчество, день, месяц, год рождения\n",
                "\n",
                "Функция возвращает список, в который добавила запись. \n",
                "\n",
                "> **Указание**: сделайте отчество аргументом по умолчанию со значением None, так как отчество может быть не у всех регистрирующихся.\n",
                "\n",
                "> Также сделайте так, чтобы пустой список создавался в том случае, если он не был передан извне.\n",
                "\n",
                "> Наконец, проверьте дату на корректность. Если дата неправильная, верните ошибку ValueError(\"Invalid Date!\"). Для этого вам пригодится функция из предыдущего задания.\n",
                "\n",
                "Пример работы функции:\n",
                "```py\n",
                "reg = register('Petrova', 'Maria', (13, 3, 2003), 'Ivanovna')\n",
                "reg = register('Ivanov', 'Sergej', (24, 9, 1995), registry=reg)\n",
                "reg = register('Smith', 'John', (13, 2, 2003), registry=reg)\n",
                "print(reg)\n",
                "# [('Petrova', 'Maria', 'Ivanovna', 13, 3, 2003), ('Ivanov', 'Sergej', None, 24, 9, 1995), ('Smith', 'John', None, 13, 2, 2003)]\n",
                " \n",
                "reg = register('Ivanov', 'Sergej', (24, 13, 1995))\n",
                "# ValueError: Invalid Date!\n",
                "\n"
            ],
            "metadata": {}
        },
        {
            "cell_type": "code",
            "execution_count": 56,
            "source": [
                "def check_date(day, month, year):\n",
                "    # Вместо pass напишите тело функции\n",
                "  def is_leap(year):\n",
                "    if year % 400 == 0:\n",
                "        return True\n",
                "    if year % 4 == 0:\n",
                "        if year % 100 != 0:\n",
                "            return True\n",
                "    return False\n",
                "\n",
                "  months_30 = [4, 6, 9, 11]\n",
                "  months_31 = [1, 3, 5, 7, 8, 10, 12]\n",
                "  feb = 28\n",
                "  if is_leap(year) : feb = 29\n",
                "  if type(year) is int  and type(month) is int and type(day) is int:\n",
                "    if 1900 < year < 2022:\n",
                "      if month in months_30:\n",
                "        if 1 <= day <= 30:\n",
                "          return True\n",
                "      if month in months_31:\n",
                "        if 1<= day <=31:\n",
                "          return True\n",
                "      if month == 2:\n",
                "        if 1 <= day <= feb:\n",
                "          return True\n",
                "\n",
                "  return False\n",
                "\n",
                "\n",
                "def register(surname, name, date, middle_name=None, registry = []):\n",
                "\n",
                "  if not check_date(*date):\n",
                "    raise ValueError(\"Invalid Date!\")\n",
                "\n",
                "  (day, month, year) = date\n",
                "  person =  (surname, name, middle_name, day, month, year)\n",
                "  registry.append(person)\n",
                "\n",
                "  return registry\n",
                "    # Напишите тело функции вместо pass\n",
                "    # При необходимости задайте аргументы по умолчанию\n",
                "\n",
                "reg = register('Petrova', 'Maria', (13, 3, 2003), 'Ivanovna')\n",
                "reg = register('Ivanov', 'Sergej', (24, 9, 1995), registry=reg)\n",
                "reg = register('Smith', 'John', (13, 2, 2003), registry=reg)\n",
                "print(reg)\n",
                "# [('Petrova', 'Maria', 'Ivanovna', 13, 3, 2003), ('Ivanov', 'Sergej', None, 24, 9, 1995), ('Smith', 'John', None, 13, 2, 2003)]\n",
                "\n",
                "reg = register('Ivanov', 'Sergej', (24, 13, 1995))\n",
                "# ValueError: Invalid Date!"
            ],
            "outputs": [
                {
                    "output_type": "stream",
                    "name": "stdout",
                    "text": [
                        "[('Petrova', 'Maria', 'Ivanovna', 13, 3, 2003), ('Ivanov', 'Sergej', None, 24, 9, 1995), ('Smith', 'John', None, 13, 2, 2003)]\n"
                    ]
                },
                {
                    "output_type": "error",
                    "ename": "ValueError",
                    "evalue": "Invalid Date!",
                    "traceback": [
                        "\u001b[0;31m---------------------------------------------------------------------------\u001b[0m",
                        "\u001b[0;31mValueError\u001b[0m                                Traceback (most recent call last)",
                        "\u001b[0;32m/tmp/ipykernel_5178/2024112128.py\u001b[0m in \u001b[0;36m<module>\u001b[0;34m\u001b[0m\n\u001b[1;32m     47\u001b[0m \u001b[0;31m# [('Petrova', 'Maria', 'Ivanovna', 13, 3, 2003), ('Ivanov', 'Sergej', None, 24, 9, 1995), ('Smith', 'John', None, 13, 2, 2003)]\u001b[0m\u001b[0;34m\u001b[0m\u001b[0;34m\u001b[0m\u001b[0;34m\u001b[0m\u001b[0m\n\u001b[1;32m     48\u001b[0m \u001b[0;34m\u001b[0m\u001b[0m\n\u001b[0;32m---> 49\u001b[0;31m \u001b[0mreg\u001b[0m \u001b[0;34m=\u001b[0m \u001b[0mregister\u001b[0m\u001b[0;34m(\u001b[0m\u001b[0;34m'Ivanov'\u001b[0m\u001b[0;34m,\u001b[0m \u001b[0;34m'Sergej'\u001b[0m\u001b[0;34m,\u001b[0m \u001b[0;34m(\u001b[0m\u001b[0;36m24\u001b[0m\u001b[0;34m,\u001b[0m \u001b[0;36m13\u001b[0m\u001b[0;34m,\u001b[0m \u001b[0;36m1995\u001b[0m\u001b[0;34m)\u001b[0m\u001b[0;34m)\u001b[0m\u001b[0;34m\u001b[0m\u001b[0;34m\u001b[0m\u001b[0m\n\u001b[0m\u001b[1;32m     50\u001b[0m \u001b[0;31m# ValueError: Invalid Date!\u001b[0m\u001b[0;34m\u001b[0m\u001b[0;34m\u001b[0m\u001b[0;34m\u001b[0m\u001b[0m\n",
                        "\u001b[0;32m/tmp/ipykernel_5178/2024112128.py\u001b[0m in \u001b[0;36mregister\u001b[0;34m(surname, name, date, middle_name, registry)\u001b[0m\n\u001b[1;32m     31\u001b[0m \u001b[0;34m\u001b[0m\u001b[0m\n\u001b[1;32m     32\u001b[0m   \u001b[0;32mif\u001b[0m \u001b[0;32mnot\u001b[0m \u001b[0mcheck_date\u001b[0m\u001b[0;34m(\u001b[0m\u001b[0;34m*\u001b[0m\u001b[0mdate\u001b[0m\u001b[0;34m)\u001b[0m\u001b[0;34m:\u001b[0m\u001b[0;34m\u001b[0m\u001b[0;34m\u001b[0m\u001b[0m\n\u001b[0;32m---> 33\u001b[0;31m     \u001b[0;32mraise\u001b[0m \u001b[0mValueError\u001b[0m\u001b[0;34m(\u001b[0m\u001b[0;34m\"Invalid Date!\"\u001b[0m\u001b[0;34m)\u001b[0m\u001b[0;34m\u001b[0m\u001b[0;34m\u001b[0m\u001b[0m\n\u001b[0m\u001b[1;32m     34\u001b[0m \u001b[0;34m\u001b[0m\u001b[0m\n\u001b[1;32m     35\u001b[0m   \u001b[0;34m(\u001b[0m\u001b[0mday\u001b[0m\u001b[0;34m,\u001b[0m \u001b[0mmonth\u001b[0m\u001b[0;34m,\u001b[0m \u001b[0myear\u001b[0m\u001b[0;34m)\u001b[0m \u001b[0;34m=\u001b[0m \u001b[0mdate\u001b[0m\u001b[0;34m\u001b[0m\u001b[0;34m\u001b[0m\u001b[0m\n",
                        "\u001b[0;31mValueError\u001b[0m: Invalid Date!"
                    ]
                }
            ],
            "metadata": {}
        },
        {
            "cell_type": "code",
            "execution_count": 66,
            "source": [
                "from functools import reduce\n",
                "\n",
                "a = map(lambda x,y: x+y, range(5))\n",
                "# b = reduce(lambda x,y: x+y, range(5))\n",
                "b = reduce(lambda x,y: x+y, range(6))\n",
                "# list(a)\n",
                "b"
            ],
            "outputs": [
                {
                    "output_type": "execute_result",
                    "data": {
                        "text/plain": [
                            "15"
                        ]
                    },
                    "metadata": {},
                    "execution_count": 66
                }
            ],
            "metadata": {}
        },
        {
            "cell_type": "code",
            "execution_count": 60,
            "source": [
                "a = [1,3,5,6,7]\n",
                "b = ['A', 'B', 'C']\n",
                " \n",
                "for x, y in zip(a, b):\n",
                "   print(x, y)"
            ],
            "outputs": [
                {
                    "output_type": "stream",
                    "name": "stdout",
                    "text": [
                        "1 A\n",
                        "3 B\n",
                        "5 C\n"
                    ]
                }
            ],
            "metadata": {}
        },
        {
            "cell_type": "markdown",
            "source": [
                "## Задание 11.18 \n",
                "\n",
                "Напишите функцию sort_registry(registry), которая сортирует список кортежей из предыдущего задания по возрастанию года рождения, месяца и дня рождения, а затем по фамилии, имени и отчеству.\n",
                "\n",
                "Функция возвращает отсортированный список.\n",
                "\n",
                "> **Примечание**: это задание на использование lambda-функций в качестве ключа сортировки.\n",
                "\n",
                "Пример работы функции:\n",
                "```py\n",
                "reg = [('Petrova', 'Maria', 'Ivanovna', 13, 3, 2003),\n",
                "      ('Ivanov', 'Sergej', None, 24, 9, 1995),\n",
                "      ('Smith', 'John', None, 13, 2, 2003)]\n",
                " \n",
                "reg = sort_registry(reg)\n",
                "print(reg)\n",
                "\n"
            ],
            "metadata": {}
        },
        {
            "cell_type": "code",
            "execution_count": 71,
            "source": [
                "def sort_registry(registry):\n",
                "    # Вместо pass напишите тело функции\n",
                "    # (item[-1], item[-2], item[-3], item[0], item[1], item[2])\n",
                "    registry.sort(key = lambda item: (item[-1], item[-2], item[-3], item[0], item[1], item[2]) )\n",
                "    return registry\n",
                "    pass\n",
                "\n",
                "reg = [('Petrova', 'Maria', 'Ivanovna', 13, 3, 2003),\n",
                "      ('Ivanov', 'Sergej', None, 24, 9, 1995),\n",
                "      ('Smith', 'John', None, 13, 2, 2003)]\n",
                " \n",
                "reg = sort_registry(reg)\n",
                "print(reg)"
            ],
            "outputs": [
                {
                    "output_type": "stream",
                    "name": "stdout",
                    "text": [
                        "[('Ivanov', 'Sergej', None, 24, 9, 1995), ('Smith', 'John', None, 13, 2, 2003), ('Petrova', 'Maria', 'Ivanovna', 13, 3, 2003)]\n"
                    ]
                }
            ],
            "metadata": {}
        },
        {
            "cell_type": "markdown",
            "source": [
                "## Задание 11.19 \n",
                "\n",
                "Напишите функцию get_strings(registry), которая отбирает из предыдущего списка кортежей только те записи, в которых год 2000 и больше (2001, 2002 и т.д.). Затем возвращается список строк в формате: Фамилия И.О., дд.мм.гггг или Фамилия И., дд.мм.гггг, если нет отчества. \n",
                "\n",
                "> **Указание**: для выполнения этого задания не используйте циклы.\n",
                "\n",
                "Используйте функции filter() и map().\n",
                "\n",
                "Создайте дополнительную функцию внутри get_strings, чтобы получать строку в нужном формате для каждой записи.\n",
                "\n",
                "> Обратите внимание, что в случае дня и месяца потребуется добавить ведущий ноль, если в них только одна цифра. Сделать это можно с помощью функции str(day).zfill(2).\n",
                "\n",
                "Пример работы функции:\n",
                "```py\n",
                "reg = [('Ivanov', 'Sergej', None, 24, 9, 1995),\n",
                "      ('Smith', 'John', None, 13, 2, 2003),\n",
                "      ('Petrova', 'Maria', 'Ivanovna', 13, 3, 2003)]\n",
                "get_strings(reg)\n",
                "# ['Smith J., 13.02.2003', 'Petrova M.I., 13.03.2003']\n",
                "\n"
            ],
            "metadata": {}
        },
        {
            "cell_type": "code",
            "execution_count": 141,
            "source": [
                "def get_strings(registry):\n",
                "    # Вместо pass напишите тело функции\n",
                "    filtered = filter(lambda a: a[-1] >= 2000  , registry)\n",
                "\n",
                "    def format(r):\n",
                "      if r[2] != None:\n",
                "        name =  str(r[0]) + ' ' + str(r[1][:1])+ '.' + str(r[2][:1]) + '.' \n",
                "      else:\n",
                "        name =  str(r[0]) + ' ' + str(r[1][:1])+ '.' \n",
                "      date = str(r[-3]).zfill(2) +'.'+ str(r[-2]).zfill(2) +'.'+ str(r[-1])\n",
                "      # return name , date\n",
                "      return name + ', ' + date\n",
                "\n",
                "    record = list(map(format, filtered))\n",
                "    print((record))\n",
                "    return record\n",
                "\n",
                "reg = [('Ivanov', 'Sergej', None, 24, 9, 1995),\n",
                "      ('Smith', 'John', None, 13, 2, 2003),\n",
                "      ('Petrova', 'Maria', 'Ivanovna', 13, 3, 2003)]\n",
                "get_strings(reg)\n",
                "# ['Smith J., 13.02.2003', 'Petrova M.I., 13.03.2003']"
            ],
            "outputs": [
                {
                    "output_type": "stream",
                    "name": "stdout",
                    "text": [
                        "['Smith J., 13.02.2003', 'Petrova M.I., 13.03.2003']\n"
                    ]
                }
            ],
            "metadata": {}
        },
        {
            "cell_type": "markdown",
            "source": [
                "## Задание 11.20 \n",
                "\n",
                "Напишите генератор group_gen(n). Генератор должен при каждом вызове выдавать порядковый номер от 1 до n. После достижения n генератор должен снова возвращать номера, начиная с 1.\n",
                "\n",
                "**Пример работы функции:**\n",
                "```py\n",
                "groups = group_gen(3)\n",
                "for _ in range(10):\n",
                "   print(next(groups))\n",
                "# 1\n",
                "# 2\n",
                "# 3\n",
                "# 1\n",
                "# 2\n",
                "# 3\n",
                "# 1\n",
                "# 2\n",
                "# 3\n",
                "# 1"
            ],
            "metadata": {}
        },
        {
            "cell_type": "code",
            "execution_count": 143,
            "source": [
                "def group_gen(n):\n",
                "    # Вместо pass напишите тело генератора\n",
                "    while True:\n",
                "      for i in range(n):\n",
                "        yield i+1\n",
                "\n",
                "\n",
                "\n",
                "groups = group_gen(3)\n",
                "for _ in range(10):\n",
                "  print(next(groups))\n",
                "# 1\n",
                "# 2\n",
                "# 3\n",
                "# 1\n",
                "# 2\n",
                "# 3\n",
                "# 1\n",
                "# 2\n",
                "# 3\n",
                "# 1"
            ],
            "outputs": [
                {
                    "output_type": "stream",
                    "name": "stdout",
                    "text": [
                        "1\n",
                        "2\n",
                        "3\n",
                        "1\n",
                        "2\n",
                        "3\n",
                        "1\n",
                        "2\n",
                        "3\n",
                        "1\n"
                    ]
                }
            ],
            "metadata": {}
        },
        {
            "cell_type": "markdown",
            "source": [
                "## Задание 11.21 \n",
                "\n",
                "Напишите функцию print_students(students, groups), которая принимает список строк из задания 11.19 и число групп, на которое необходимо поделить студентов.\n",
                "\n",
                "Используя генератор групп из задания 11.20 (генератор должен быть прописан внутри функции print_students), печатайте на экран:\n",
                "\n",
                "<Фамилия И.О., дд.мм.гггг> studies in group <номер группы по порядку>.\n",
                "\n",
                "> **Указание**: используйте функцию zip() для одновременной работы с двумя итераторами.\n",
                "\n",
                "Пример работы функции:\n",
                "```py\n",
                "reg = ['Smith J., 13.02.2003', 'Petrova M.I., 13.03.2003']\n",
                "print_students(reg, 3)\n",
                "# Smith J., 13.02.2003 studies in group 1\n",
                "# Petrova M.I., 13.03.2003 studies in group 2\n",
                "\n"
            ],
            "metadata": {}
        },
        {
            "cell_type": "code",
            "execution_count": 146,
            "source": [
                "def print_students(students, groups):\n",
                "    # Вместо pass напишите тело функции\n",
                "    def group_number():\n",
                "      while True:\n",
                "        for group in range(groups):\n",
                "          yield \"studies in group \" + str(group + 1)\n",
                "    group = group_number()\n",
                "    for a, b in zip(students, group):\n",
                "      print(a, b)\n",
                "        \n",
                "\n",
                "\n",
                "reg = ['Smith J., 13.02.2003', 'Petrova M.I., 13.03.2003']\n",
                "print_students(reg, 3)\n",
                "# Smith J., 13.02.2003 studies in group 1\n",
                "# Petrova M.I., 13.03.2003 studies in group 2"
            ],
            "outputs": [
                {
                    "output_type": "stream",
                    "name": "stdout",
                    "text": [
                        "Smith J., 13.02.2003 studies in group 1\n",
                        "Petrova M.I., 13.03.2003 studies in group 2\n"
                    ]
                }
            ],
            "metadata": {}
        }
    ],
    "metadata": {
        "orig_nbformat": 4,
        "language_info": {
            "name": "python",
            "version": "3.8.10",
            "mimetype": "text/x-python",
            "codemirror_mode": {
                "name": "ipython",
                "version": 3
            },
            "pygments_lexer": "ipython3",
            "nbconvert_exporter": "python",
            "file_extension": ".py"
        },
        "kernelspec": {
            "name": "python3",
            "display_name": "Python 3.8.10 64-bit ('venv')"
        },
        "interpreter": {
            "hash": "eaf3fef5f1d0627f71e8e04d3713752e7841f3a197afe839fcc8f5cd2eeb68a8"
        }
    },
    "nbformat": 4,
    "nbformat_minor": 2
}