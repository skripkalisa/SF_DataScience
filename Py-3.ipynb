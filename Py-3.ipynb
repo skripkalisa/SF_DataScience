{
 "metadata": {
  "language_info": {
   "codemirror_mode": {
    "name": "ipython",
    "version": 3
   },
   "file_extension": ".py",
   "mimetype": "text/x-python",
   "name": "python",
   "nbconvert_exporter": "python",
   "pygments_lexer": "ipython3",
   "version": "3.8.10"
  },
  "orig_nbformat": 4,
  "kernelspec": {
   "name": "python3",
   "display_name": "Python 3.8.10 64-bit ('venv')"
  },
  "interpreter": {
   "hash": "48a5dd597f005c8c0d6c817f16fdfa200a7e97951d0afb0adf2e59f32a1d8813"
  }
 },
 "nbformat": 4,
 "nbformat_minor": 2,
 "cells": [
  {
   "cell_type": "code",
   "execution_count": 3,
   "metadata": {},
   "outputs": [
    {
     "output_type": "stream",
     "name": "stdout",
     "text": [
      "1 1\n"
     ]
    }
   ],
   "source": [
    "var = 1\n",
    "VAR = 1\n",
    "print(var, VAR)"
   ]
  },
  {
   "cell_type": "code",
   "execution_count": 4,
   "metadata": {},
   "outputs": [
    {
     "output_type": "error",
     "ename": "SyntaxError",
     "evalue": "invalid syntax (4100994381.py, line 1)",
     "traceback": [
      "\u001b[0;36m  File \u001b[0;32m\"/tmp/ipykernel_137930/4100994381.py\"\u001b[0;36m, line \u001b[0;32m1\u001b[0m\n\u001b[0;31m    c = \"Роман \"Анна Каренина\"\"\u001b[0m\n\u001b[0m                ^\u001b[0m\n\u001b[0;31mSyntaxError\u001b[0m\u001b[0;31m:\u001b[0m invalid syntax\n"
     ]
    }
   ],
   "source": [
    "c = \"Роман \"Анна Каренина\"\"\n",
    "c"
   ]
  },
  {
   "cell_type": "code",
   "execution_count": 5,
   "metadata": {},
   "outputs": [
    {
     "output_type": "execute_result",
     "data": {
      "text/plain": [
       "\"Повесть 'Капитанская дочка'\""
      ]
     },
     "metadata": {},
     "execution_count": 5
    }
   ],
   "source": [
    "d = \"Повесть 'Капитанская дочка'\"\n",
    "d"
   ]
  },
  {
   "cell_type": "code",
   "execution_count": 6,
   "metadata": {},
   "outputs": [
    {
     "output_type": "stream",
     "name": "stdout",
     "text": [
      "False\n"
     ]
    }
   ],
   "source": [
    "string_1 = 'abc'\n",
    "string_2 = 'ABC'\n",
    "\n",
    "print(string_1 == string_2)"
   ]
  },
  {
   "cell_type": "code",
   "execution_count": 8,
   "metadata": {},
   "outputs": [
    {
     "output_type": "execute_result",
     "data": {
      "text/plain": [
       "True"
      ]
     },
     "metadata": {},
     "execution_count": 8
    }
   ],
   "source": [
    "x = 10\n",
    "y = 100\n",
    "z = (x % 2 == 0) & (y >= 100)\n",
    "z"
   ]
  },
  {
   "source": [
    "# 2. Практические примеры с различными операторами\n",
    "## ПРОВЕРКА НА ВХОЖДЕНИЕ ЭЛЕМЕНТА В ПОСЛЕДОВАТЕЛЬНОСТЬ"
   ],
   "cell_type": "markdown",
   "metadata": {}
  },
  {
   "cell_type": "code",
   "execution_count": 10,
   "metadata": {},
   "outputs": [
    {
     "output_type": "stream",
     "name": "stdout",
     "text": [
      "True\n"
     ]
    }
   ],
   "source": [
    "N = 293847293847983745\n",
    "print('3' and '7' in list(str(N)))"
   ]
  },
  {
   "source": [
    "## ПРОВЕРКА эквивалентности\n",
    "→ Как вы помните из прошлого модуля, списки в Python являются изменяемыми типами данных. Когда вы присваиваете какой-то переменной список, то из-за особенностей реализации данного типа данных в эту переменную будет помещён адрес первого элемента списка и адрес следующего элемента. И так по цепочке будет выстроен весь список."
   ],
   "cell_type": "markdown",
   "metadata": {}
  },
  {
   "cell_type": "code",
   "execution_count": 12,
   "metadata": {},
   "outputs": [
    {
     "output_type": "stream",
     "name": "stdout",
     "text": [
      "140110684959360\n140110684959360\nTrue\nЭквивалентные объекты всегда равны. Но равные объекты не всегда эквивалентны:\nTrue\nFalse\n"
     ]
    }
   ],
   "source": [
    "a = [1, 2, 3]\n",
    "print(id(a))  # id возвращает идентификатор объекта\n",
    "# 140039772293512\n",
    "\n",
    "b = a\n",
    "print(id(b))\n",
    "# 140039772293512\n",
    "\n",
    "print(a is b)  # а и b являются одним и тем же объектом\n",
    "# True\n",
    "\n",
    "print(\"Эквивалентные объекты всегда равны. Но равные объекты не всегда эквивалентны:\")\n",
    "\n",
    "a = [1, 2, 3]\n",
    "b = [1, 2, 3]\n",
    "\n",
    "print(a == b)  # True\n",
    "print(a is b)  # False"
   ]
  },
  {
   "cell_type": "code",
   "execution_count": null,
   "metadata": {},
   "outputs": [],
   "source": [
    "Если вы хотите проверить, является ли значение переменной None, следует использовать не оператор сравнения ==, а проверку эквивалентности, потому что идентификатор объекта None не меняется на протяжении всей программы.\n",
    "\n",
    "# Хорошо\n",
    "a is None\n",
    "\n",
    "# Плохо\n",
    "a == None\n",
    "\n"
   ]
  },
  {
   "source": [
    "\n",
    "### Задание 2.2 (на самопроверку)\n",
    "\n",
    "Дано n-значное целое число N. Определите, начинается ли оно с чётной цифры. Напишите соответствующее выражение для проверки.\n"
   ],
   "cell_type": "markdown",
   "metadata": {}
  },
  {
   "cell_type": "code",
   "execution_count": 18,
   "metadata": {},
   "outputs": [
    {
     "output_type": "stream",
     "name": "stdout",
     "text": [
      "True\n"
     ]
    }
   ],
   "source": [
    "N = 20948029388473027\n",
    "res = list(map(int, list(str(N))))\n",
    "print(res[0] % 2 == 0)"
   ]
  },
  {
   "cell_type": "code",
   "execution_count": 19,
   "metadata": {},
   "outputs": [
    {
     "output_type": "stream",
     "name": "stdout",
     "text": [
      "True\n"
     ]
    }
   ],
   "source": [
    "list_1 = [1, 2]\n",
    " \n",
    "list_2 = [1, 2, 3]\n",
    "val = list_2.pop()\n",
    " \n",
    "print(list_1 == list_2)"
   ]
  },
  {
   "cell_type": "code",
   "execution_count": 20,
   "metadata": {},
   "outputs": [
    {
     "output_type": "stream",
     "name": "stdout",
     "text": [
      "False\n"
     ]
    }
   ],
   "source": [
    "list_1 = [1, 2]\n",
    " \n",
    "list_2 = [1, 2, 3]\n",
    "val = list_2.pop()\n",
    " \n",
    "print(id(list_1) == id(list_2))"
   ]
  },
  {
   "source": [
    "# 3. Условный оператор\n",
    "## ПРОСТОЙ УСЛОВНЫЙ ОПЕРАТОР"
   ],
   "cell_type": "markdown",
   "metadata": {}
  },
  {
   "cell_type": "code",
   "execution_count": 21,
   "metadata": {},
   "outputs": [
    {
     "output_type": "stream",
     "name": "stdout",
     "text": [
      "15\n"
     ]
    }
   ],
   "source": [
    "s = 5\n",
    "a = 10\n",
    "if a > 0:\n",
    "   s = s + a\n",
    "else:\n",
    "   s = s - a\n",
    "\n",
    "print(s)"
   ]
  },
  {
   "source": [
    "## НЕЯВНОЕ ПРИВЕДЕНИЕ К БУЛЕВУ ТИПУ\n",
    "→ Если вы не используете никакой логический оператор или оператор сравнения в условном операторе, то интерпретатор за вас производит неявное приведение типов. То есть переводит переменную к bool и проверяет её значение."
   ],
   "cell_type": "markdown",
   "metadata": {}
  },
  {
   "source": [
    "Если ваша задача — проверить, можно ли делить и является ли делитель нулём, то проверку в явном виде zero != 0 делать излишне."
   ],
   "cell_type": "markdown",
   "metadata": {}
  },
  {
   "cell_type": "code",
   "execution_count": null,
   "metadata": {},
   "outputs": [],
   "source": [
    "\n",
    "# Плохо\n",
    "if zero != 0:\n",
    "   print(10 / zero)\n",
    "else:\n",
    "   print(\"You can't devide by zero\") # делить на ноль нельзя\n",
    "\n",
    "# Хорошо\n",
    "if zero:\n",
    "   print(10 / zero)\n",
    "else:\n",
    "   print(\"You can't devide by zero\") # делить на ноль нельзя"
   ]
  },
  {
   "source": [
    "Если вам нужно проверить, пустая строка или нет, то делать это таким способом password == \"\", а уж тем более таким len(password) == 0 ни к чему."
   ],
   "cell_type": "markdown",
   "metadata": {}
  },
  {
   "cell_type": "code",
   "execution_count": null,
   "metadata": {},
   "outputs": [],
   "source": [
    "# Плохо\n",
    "if password == \"\":\n",
    "   print(\"You forgot to enter a password\") # вы забыли ввести пароль\n",
    "else:\n",
    "   ...\n",
    "\n",
    "# Очень плохо\n",
    "if len(password) == 0:\n",
    "   print(\"You forgot to enter a password\") # вы забыли ввести пароль\n",
    "else:\n",
    "   ...\n",
    "\n",
    "# Хорошо\n",
    "if not password:\n",
    "   print(\"You forgot to enter a password\") # вы забыли ввести пароль\n",
    "else:"
   ]
  },
  {
   "source": [
    "# 4. Исключения\n",
    "\n",
    "Ошибки бывают двух видов:\n",
    "        отлавливаемые — всё, что наследуются от класса Exception;\n",
    "        неотлавливаемые — SystemExit, KeyboardInterrupt и т. д.\n",
    "\n",
    "Как сделать так, чтобы программа не вылетала при ошибке и продолжала свою работу? Для этого нужна конструкция try-except.\n"
   ],
   "cell_type": "markdown",
   "metadata": {}
  },
  {
   "cell_type": "code",
   "execution_count": 22,
   "metadata": {},
   "outputs": [
    {
     "output_type": "stream",
     "name": "stdout",
     "text": [
      "Before exception\n",
      "division by zero\n",
      "After exception\n",
      "After After exception\n"
     ]
    }
   ],
   "source": [
    "try: # Добавляем конструкцию try-except для отлова нашей ошибки\n",
    "    print(\"Before exception\") # перед исключением\n",
    "    # теперь пользователь сам вводит числа для деления\n",
    "    a = int(input(\"a: \"))\n",
    "    b = int(input(\"b: \"))\n",
    "    c = a / b # здесь может возникнуть исключение деления на ноль\n",
    "    print(c) # печатаем c = a / b, если всё хорошо\n",
    "except ZeroDivisionError as e: # Добавляем тип именно той ошибки, которую хотим отловить.     \n",
    "    print(e) # Выводим информацию об ошибке\n",
    "    print(\"After exception\") # после исключения\n",
    " \n",
    "print(\"After After exception\") # после после исключения"
   ]
  },
  {
   "source": [
    "В данном случае после возникновения ошибки выполнение кода в блоке try прервётся, выполнение перейдёт на блок except, а затем код продолжит работать дальше, то есть программа не вылетит, как это было бы без обработчика исключений. В этом и есть суть конструкции try-except"
   ],
   "cell_type": "markdown",
   "metadata": {}
  },
  {
   "cell_type": "code",
   "execution_count": 23,
   "metadata": {},
   "outputs": [
    {
     "output_type": "stream",
     "name": "stdout",
     "text": [
      "Before exception\n",
      "After exception\n",
      "Finally finished!\n",
      "After After exception\n"
     ]
    }
   ],
   "source": [
    "try:\n",
    "    print(\"Before exception\") # перед исключением\n",
    "    a = int(input(\"a: \"))\n",
    "    b = int(input(\"b: \"))\n",
    "    c = a / b\n",
    "    print(c) # печатаем c = a / b, если всё хорошо\n",
    "except ZeroDivisionError as e:\n",
    "    print(\"After exception\") # после исключения\n",
    "else: # код в блоке else выполняется только в том случае, если код в блоке try выполнился успешно (т. е. не произошло никакого исключения)\n",
    "    print(\"Everything's fine!\") # всё отлично!\n",
    "finally: # код в блоке finally выполнится в любом случае при выходе из try-except\n",
    "    print(\"Finally finished!\") # наконец-то завершено!\n",
    " \n",
    "print(\"After After exception\") # после после исключения"
   ]
  },
  {
   "source": [
    "#### Мы можем вызывать ошибки самостоятельно с помощью конструкции raise. Используется это, как правило, для отладки кода и остановки программы в критических ситуациях."
   ],
   "cell_type": "markdown",
   "metadata": {}
  },
  {
   "source": [
    "age = int(input(\"How old are you?\"))\n",
    " \n",
    "if age > 100 or age <= 0:\n",
    "    raise ValueError(\"You are too old or don't exist\") # Ты слишком стар либо не существуешь (Тебе не может быть столько лет)\n",
    " \n",
    "print(f\"You are {age} years old!\") # Возраст выводится только в том случае, если пользователь ввёл правильный возраст."
   ],
   "cell_type": "code",
   "metadata": {},
   "execution_count": 26,
   "outputs": [
    {
     "output_type": "stream",
     "name": "stdout",
     "text": [
      "You are 46 years old!\n"
     ]
    }
   ]
  },
  {
   "cell_type": "code",
   "execution_count": 28,
   "metadata": {},
   "outputs": [
    {
     "output_type": "stream",
     "name": "stdout",
     "text": [
      "Wrong age\nYou are 110 years old!\n"
     ]
    }
   ],
   "source": [
    "try:\n",
    "    age = int(input(\"How old are you?\"))\n",
    " \n",
    "    if age > 100 or age <= 0:\n",
    "        raise ValueError(\"You are too old or don't exist\") # Ты слишком стар либо не существуешь (Тебе не может быть столько лет)\n",
    "except ValueError:\n",
    "    print(\"Wrong age\") # неправильный возраст\n",
    " \n",
    "print(f\"You are {age} years old!\") # Возраст выводится только в случае, если пользователь ввёл правильный возраст."
   ]
  },
  {
   "cell_type": "code",
   "execution_count": 30,
   "metadata": {},
   "outputs": [
    {
     "output_type": "stream",
     "name": "stdout",
     "text": [
      "Вы ввели не число!\nВыход из программы.\n"
     ]
    }
   ],
   "source": [
    "try:    \n",
    "    user_input = int(input(\"Enter a few numbers: \"))\n",
    "    print(\"Вы ввели число: \")\n",
    "except ValueError as e:\n",
    "    print(\"Вы ввели не число!\")\n",
    "else: \n",
    "    print(user_input)\n",
    "finally:\n",
    "    print(\"Выход из программы.\")\n"
   ]
  },
  {
   "source": [
    "# 5. Практические примеры с условным оператором\n",
    "## Использование логических операторов и операторов сравнения в условном операторе"
   ],
   "cell_type": "markdown",
   "metadata": {}
  },
  {
   "cell_type": "code",
   "execution_count": null,
   "metadata": {},
   "outputs": [],
   "source": [
    "# Хорошо\n",
    "if not seq:\n",
    "if seq:\n",
    "\n",
    "# Плохо\n",
    "if len(seq)\n",
    "if not len(seq)\n",
    "\n",
    "# Примеры\n",
    "\n",
    "if pozitive_num:  # нет смысла проверять len(pozitive_num)\n",
    "   # если список непустой, печатаем его\n",
    "   print(\"List of positive numbers: \", pozitive_num) # Список положительных чисел\n",
    "else:\n",
    "   # печатаем, если список оказался пустым\n",
    "   print(\"List of positive numbers is empty\") # Список положительных чисел пустой\n",
    "\n",
    "\n",
    "if not password:  # password строка содержащая пароль, введённый пользователем\n",
    "   print(\"You forgot to enter a password! Please, try again\") # Вы забыли ввести пароль! Повторите попытку ещё раз"
   ]
  },
  {
   "cell_type": "code",
   "execution_count": null,
   "metadata": {},
   "outputs": [],
   "source": [
    "\n",
    "Не сравнивайте логические типы с True и False с помощью ==, иначе получается «масло масляное».\n",
    "\n",
    "# Хорошо\n",
    "if greeting:\n",
    "\n",
    "# Плохо\n",
    "if greeting == True:\n",
    "\n",
    "# Совсем неверно\n",
    "if greeting is True:\n",
    "\n"
   ]
  },
  {
   "cell_type": "code",
   "execution_count": null,
   "metadata": {},
   "outputs": [],
   "source": []
  }
 ]
}