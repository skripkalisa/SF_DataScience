{
    "cells": [
        {
            "cell_type": "markdown",
            "source": [
                "#  PYTHON-6. Практика "
            ],
            "metadata": {}
        },
        {
            "cell_type": "markdown",
            "source": [
                "# 1. Основы Python"
            ],
            "metadata": {}
        },
        {
            "cell_type": "code",
            "execution_count": 6,
            "source": [
                "python_string = 'Hello! My name is Python. I will help you to analyze some data'\n",
                "ps = len(python_string)\n",
                "ps**3"
            ],
            "outputs": [
                {
                    "output_type": "execute_result",
                    "data": {
                        "text/plain": [
                            "238328"
                        ]
                    },
                    "metadata": {},
                    "execution_count": 6
                }
            ],
            "metadata": {}
        },
        {
            "cell_type": "code",
            "execution_count": 13,
            "source": [
                "python_string = 'Hello! My name is Python. I will help you to analyze some data'\n",
                "print(python_string[18:24])"
            ],
            "outputs": [
                {
                    "output_type": "stream",
                    "name": "stdout",
                    "text": [
                        "Python\n"
                    ]
                }
            ],
            "metadata": {}
        },
        {
            "cell_type": "code",
            "execution_count": 28,
            "source": [
                "import re\n",
                "python_string = 'Hello! My name is Python. I will help you to analyze some data'\n",
                "ps = re.sub(r'[^\\w\\s]', '', python_string)\n",
                "p = len(list(ps.split()))\n",
                "p"
            ],
            "outputs": [
                {
                    "output_type": "execute_result",
                    "data": {
                        "text/plain": [
                            "13"
                        ]
                    },
                    "metadata": {},
                    "execution_count": 28
                }
            ],
            "metadata": {}
        },
        {
            "cell_type": "code",
            "execution_count": 30,
            "source": [
                "def change_password(user_name, new_password):\n",
                "    return 'User {} changed password to {}'.format(user_name, new_password)\n",
                "\n",
                "print(change_password(\"Lena\", \"qwerty\"))"
            ],
            "outputs": [
                {
                    "output_type": "stream",
                    "name": "stdout",
                    "text": [
                        "User Lena changed password to qwerty\n"
                    ]
                }
            ],
            "metadata": {}
        },
        {
            "cell_type": "markdown",
            "source": [
                "# 2. Погружение в типы данных"
            ],
            "metadata": {}
        },
        {
            "cell_type": "code",
            "execution_count": 110,
            "source": [
                "punctuation_list = ['.', ',', ';', ':', '...', '!', '?', '-', '\"', '(', ')']\n",
                "# Текст, который можно использовать в качестве примера:\n",
                "text_example = \"A beginning is the time for taking the most delicate care that the balances are correct. This every sister of the Bene Gesserit knows. To begin your study of the life of Muad'Dib, then take care that you first place him in his time: born in the 57th year of the Padishah Emperor, Shaddam IV. And take the most special care that you locate Muad'Dib in his place: the planet Arrakis. Do not be deceived by the fact that he was born on Caladan and lived his first fifteen years there. Arrakis, the planet known as Dune, is forever his place.\"\n",
                "\n",
                "def get_unique_words(text):\n",
                "\n",
                "  return sorted(set(dict([v, k] for k, v in enumerate(''.join(u for u in text if u not in punctuation_list).lower().split()))))\n",
                "  # return sorted(dict(''.join(u for u in text if u not in punctuation_list).lower().split()))\n",
                "\n",
                "print(get_unique_words(text_example))"
            ],
            "outputs": [
                {
                    "output_type": "stream",
                    "name": "stdout",
                    "text": [
                        "['57th', 'a', 'and', 'are', 'arrakis', 'as', 'balances', 'be', 'begin', 'beginning', 'bene', 'born', 'by', 'caladan', 'care', 'correct', 'deceived', 'delicate', 'do', 'dune', 'emperor', 'every', 'fact', 'fifteen', 'first', 'for', 'forever', 'gesserit', 'he', 'him', 'his', 'in', 'is', 'iv', 'known', 'knows', 'life', 'lived', 'locate', 'most', \"muad'dib\", 'not', 'of', 'on', 'padishah', 'place', 'planet', 'shaddam', 'sister', 'special', 'study', 'take', 'taking', 'that', 'the', 'then', 'there', 'this', 'time', 'to', 'was', 'year', 'years', 'you', 'your']\n"
                    ]
                }
            ],
            "metadata": {}
        },
        {
            "cell_type": "code",
            "execution_count": 109,
            "source": [
                "text_example = \"A beginning is the time for taking the most delicate care that the balances are correct. This every sister of the Bene Gesserit knows. To begin your study of the life of Muad'Dib, then take care that you first place him in his time: born in the 57th year of the Padishah Emperor, Shaddam IV. And take the most special care that you locate Muad'Dib in his place: the planet Arrakis. Do not be deceived by the fact that he was born on Caladan and lived his first fifteen years there. Arrakis, the planet known as Dune, is forever his place.\"\n",
                "\n",
                "punctuation_list = ['.', ',', ';', ':', '...', '!', '?', '-', '\"', '(', ')']\n",
                "def get_unique_words(text):\n",
                "  return sorted(set(''.join(u for u in text if u not in punctuation_list).lower().split()))\n",
                "\n",
                "def get_most_frequent_word(text):\n",
                "  # word_stat = dict([v, k] for k,v in enumerate(word_list))\n",
                "  word_list = (''.join(u for u in text if u not in punctuation_list).lower().split())\n",
                "\n",
                "  return max(set(word_list), key = word_list.count)\n",
                "\n",
                "print(get_most_frequent_word(text_example))\n"
            ],
            "outputs": [
                {
                    "output_type": "stream",
                    "name": "stdout",
                    "text": [
                        "the\n"
                    ]
                }
            ],
            "metadata": {}
        },
        {
            "cell_type": "code",
            "execution_count": 111,
            "source": [
                "def division(a, b):\n",
                "  try:\n",
                "    return a /b\n",
                "  except:\n",
                "    ZeroDivisionError\n",
                "        \n",
                "print(division(1, 0))\n",
                "print(division(1, 1))"
            ],
            "outputs": [
                {
                    "output_type": "stream",
                    "name": "stdout",
                    "text": [
                        "None\n",
                        "1.0\n"
                    ]
                }
            ],
            "metadata": {}
        },
        {
            "cell_type": "markdown",
            "source": [
                "# 4. Циклы"
            ],
            "metadata": {}
        },
        {
            "cell_type": "code",
            "execution_count": 114,
            "source": [
                "def lucky_ticket(ticket_number):\n",
                "  sum_l = 0\n",
                "  sum_r = 0\n",
                "  left = str(ticket_number // 1000)\n",
                "  right = str(ticket_number % 1000)\n",
                "  for digit in left:\n",
                "    sum_l += int(digit)\n",
                "  for digit in right:\n",
                "    sum_r += int(digit)\n",
                "  return sum_l == sum_r\n",
                "\n",
                "print(lucky_ticket(111111))\n",
                "print(lucky_ticket(123456))\n"
            ],
            "outputs": [
                {
                    "output_type": "stream",
                    "name": "stdout",
                    "text": [
                        "True\n",
                        "False\n"
                    ]
                }
            ],
            "metadata": {}
        },
        {
            "cell_type": "code",
            "execution_count": 130,
            "source": [
                "def fib_number(n):\n",
                "  a, b = 0, 1\n",
                "  for i in range(n):\n",
                "    a, b = b, a + b\n",
                "  return a\n",
                "\n",
                "print(fib_number(0))\n",
                "print(fib_number(1))\n",
                "print(fib_number(2))\n",
                "print(fib_number(6))\n",
                "print(fib_number(15))"
            ],
            "outputs": [
                {
                    "output_type": "stream",
                    "name": "stdout",
                    "text": [
                        "0\n",
                        "1\n",
                        "1\n",
                        "8\n",
                        "610\n"
                    ]
                }
            ],
            "metadata": {}
        },
        {
            "cell_type": "code",
            "execution_count": 131,
            "source": [
                "matrix_example = [\n",
                "          [1, 5, 4],\n",
                "          [4, 2, -2],\n",
                "          [7, 65, 88]\n",
                "]\n",
                "\n",
                "def even_numbers_in_matrix(matrix):\n",
                "    count = 0\n",
                "    for i in range(len(matrix)):\n",
                "      for j in range(len(matrix[i])):\n",
                "        if matrix[i][j] % 2  == 0:\n",
                "          count += 1\n",
                "    return count\n",
                "    \n",
                "\n",
                "print(even_numbers_in_matrix(matrix_example))"
            ],
            "outputs": [
                {
                    "output_type": "stream",
                    "name": "stdout",
                    "text": [
                        "5\n"
                    ]
                }
            ],
            "metadata": {}
        },
        {
            "cell_type": "code",
            "execution_count": 137,
            "source": [
                "# Примечание: чтобы найти сумму двух матриц, нужно просуммировать \n",
                "# их соответствующие элементы. Но перед этим необходимо проверить, что размеры \n",
                "# матриц одинаковы (одинаковое количество столбцов и одинаковое количество строк)\n",
                "\n",
                "# Например:\n",
                "\n",
                "# 1 2 3   2 3 4   3 5 7\n",
                "# 2 3 4 + 4 5 6 = 6 8 10\n",
                "# 5 6 7   4 3 2   9 9 9\n",
                "\n",
                "matrix_example = [\n",
                "        [1, 5, 4],\n",
                "        [4, 2, -2],\n",
                "        [7, 65, 88]\n",
                "]\n",
                "\n",
                "def matrix_sum(matrix1, matrix2):\n",
                "  matrix = matrix_example\n",
                "  if len(matrix1) == len(matrix2):\n",
                "    if len(matrix1[0]) == len(matrix2[0]):\n",
                "      for i in range(len(matrix1)):\n",
                "        for j in range(len(matrix1[i])):\n",
                "            matrix[i][j] = matrix1[i][j] +  matrix2[i][j]\n",
                "      return matrix\n",
                "\n",
                "print(matrix_sum(matrix_example, matrix_example))\n"
            ],
            "outputs": [
                {
                    "output_type": "stream",
                    "name": "stdout",
                    "text": [
                        "[[2, 10, 8], [8, 4, -4], [14, 130, 176]]\n"
                    ]
                }
            ],
            "metadata": {}
        }
    ],
    "metadata": {
        "orig_nbformat": 4,
        "language_info": {
            "name": "python",
            "version": "3.8.10",
            "mimetype": "text/x-python",
            "codemirror_mode": {
                "name": "ipython",
                "version": 3
            },
            "pygments_lexer": "ipython3",
            "nbconvert_exporter": "python",
            "file_extension": ".py"
        },
        "kernelspec": {
            "name": "python3",
            "display_name": "Python 3.8.10 64-bit ('venv': venv)"
        },
        "interpreter": {
            "hash": "07e0ed78c6835a3718763fce61a883b6fd52d67530ec890c58324c1c8c3f4d9c"
        }
    },
    "nbformat": 4,
    "nbformat_minor": 2
}